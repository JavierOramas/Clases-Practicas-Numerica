{
 "cells": [
  {
   "cell_type": "markdown",
   "metadata": {},
   "source": [
    "# Ejercicio 1: 1, 2, y p ¡qué norma más chévere! (80 000 créditos)\n",
    "Dado el vector x = [1, 2, . . . , 1000],\n",
    "- a) (10 000 créditos) Calcule la norma 1 de x.\n",
    "### Respuesta\n",
    "    $$||x||_{1} = \\sum^{1000}_{i=1}|a_{i}|$$\n",
    "- b) (10 000 créditos) Calcule la norma 2 de x.\n",
    "### Respuesta\n",
    "    $$ ||x||_{1} = \\sqrt{ \\sum^{1000}_{i=1}a_{i}^{2}}$$\n",
    "- c) (10 000 créditos) Calcule la norma p de x cuando p = 14.\n",
    "    $$ ||x||_{1} = \\sqrt[p]{ \\sum^{1000}_{i=1}|a_{i}|^{p}}$$\n",
    "- d) (50 000 créditos) Compruebe “experimentalmente” que: $\\lim_{p\\to\\infty} ||x||_{p} = ||x||_{\\infty}$, determine para qué valores de p, la norma p del vector x “se parece” a la norma infinito."
   ]
  },
  {
   "cell_type": "code",
   "execution_count": null,
   "metadata": {},
   "outputs": [],
   "source": []
  },
  {
   "cell_type": "markdown",
   "metadata": {},
   "source": [
    "# Ejercicio 2: SELs, residuos y errores (150 000 créditos)\n",
    "Dados el sistema de ecuaciones lineales:\n",
    "$\n",
    "\n",
    "\\begin{bmatrix}\n",
    "1 & 1 \\\\\n",
    "1.0000001 & 1\n",
    "\\end{bmatrix}\n",
    "\\begin{bmatrix}\n",
    "x1\\\\\n",
    "x2\n",
    "\\end{bmatrix}\n",
    "\n",
    "\\begin{bmatrix}\n",
    "2\\\\\n",
    "2,0000001 \n",
    "\\end{bmatrix}\n",
    "$\n",
    "\n",
    "que tiene solución exacta: $x = [1; 1]^t$, y la solución aproximada $\\bar{x} = [−1; 3,0001]$:\n",
    "- a) (20 000 créditos) Calcule el residual asociado a x.\n",
    "- b) (20 000 créditos) Calcule el error absoluto asociado a x\n",
    "- c) (20 000 créditos) Calcule una solución del sistema usando la factorización PLU que está\n",
    "    implementada en Python. Sea $x_P$ esa solución.\n",
    "- d) (20 000 créditos) Calcule el residual asociado a xp.\n",
    "- e) (20 000 créditos) Calcule el error absoluto asociado a xp.\n",
    "- f) (50 000 créditos) ¿Cu´antas cifras significativas correctas tiene xp como aproximaci´on de x?\n"
   ]
  },
  {
   "cell_type": "markdown",
   "metadata": {},
   "source": [
    "# Ejercicio 3: Todo depende de la norma con que se mire (80000 créditos)\n",
    "Dada la matriz\n",
    "$\n",
    "A =\n",
    "\\begin{pmatrix}\n",
    "4 & -3 & 6 & 8 \\\\\n",
    "1 & -2 & 7 & 9 \\\\\n",
    "5 & 8 & 9 & -4 \\\\\n",
    "3 & 2 & 7 & 1\n",
    "\\end{pmatrix}\n",
    "$\n",
    "\n",
    "calcule\n",
    "- a) $||A||_1$ (10 000 créditos).\n",
    "### Respuesta\n",
    "    $$ ||A||_1 = \\max_j \\sum_{i=1}^{n} |a_{ij}|$$\n"
   ]
  },
  {
   "cell_type": "code",
   "execution_count": 33,
   "metadata": {},
   "outputs": [
    {
     "name": "stdout",
     "output_type": "stream",
     "text": [
      "26\n"
     ]
    }
   ],
   "source": [
    "import numpy as np\n",
    "A = np.array([[4,-3,6,8],[1,-2,7,9],[5,8,9,-4],[3,2,7,1]])\n",
    "sol = 0\n",
    "for i in A:\n",
    "    temp = 0\n",
    "    for j in i:\n",
    "        temp += abs(j)\n",
    "    sol = max(sol,temp)\n",
    "print(sol)"
   ]
  },
  {
   "cell_type": "markdown",
   "metadata": {},
   "source": [
    "- b) $||A||_2$ (10 000 créditos).\n",
    "### Respuesta\n",
    "    $$ ||A||_2 = \\sqrt{\\lambda_{max}(A^tA)}$$\n",
    "    "
   ]
  },
  {
   "cell_type": "code",
   "execution_count": 56,
   "metadata": {},
   "outputs": [
    {
     "data": {
      "text/plain": [
       "310.5524598140576"
      ]
     },
     "execution_count": 56,
     "metadata": {},
     "output_type": "execute_result"
    }
   ],
   "source": [
    "eigenvalues = np.linalg.eig(A.transpose()@A)\n",
    "max(eigenvalues[0])"
   ]
  },
  {
   "cell_type": "markdown",
   "metadata": {},
   "source": [
    "- c) $||A||_∞$ (10 000 créditos).\n",
    "$$||A||_∞ = \\max_i \\sum_{j=1}{n}|a_{ij}|$$"
   ]
  },
  {
   "cell_type": "code",
   "execution_count": 60,
   "metadata": {},
   "outputs": [
    {
     "name": "stdout",
     "output_type": "stream",
     "text": [
      "29\n"
     ]
    }
   ],
   "source": [
    "import numpy as np\n",
    "A = np.array([[4,-3,6,8],[1,-2,7,9],[5,8,9,-4],[3,2,7,1]])\n",
    "sol = 0\n",
    "# recorrer las filas de la matriz transpuesta es equivalente a recorrer las columnas\n",
    "for i in A.transpose():\n",
    "    temp = 0\n",
    "    for j in i:\n",
    "        temp += abs(j)\n",
    "    sol = max(sol,temp)\n",
    "print(sol)"
   ]
  },
  {
   "cell_type": "markdown",
   "metadata": {},
   "source": [
    "- d) $||A||_F$ (50 000 créditos).\n",
    "\n",
    "Norma de Frobenius\n",
    "$$ ||A||_F = \\sqrt{\\sum_{i=1}^{m}\\sum_{j=1}^{n} |a_{ij}|^2} = \\sqrt{Traza(A^t*A)}$$"
   ]
  },
  {
   "cell_type": "code",
   "execution_count": 64,
   "metadata": {},
   "outputs": [
    {
     "name": "stdout",
     "output_type": "stream",
     "text": [
      "22.561028345356956\n"
     ]
    }
   ],
   "source": [
    "print(np.sqrt((A.transpose()@A).trace()))"
   ]
  }
 ],
 "metadata": {
  "kernelspec": {
   "display_name": "Python 3",
   "language": "python",
   "name": "python3"
  },
  "language_info": {
   "codemirror_mode": {
    "name": "ipython",
    "version": 3
   },
   "file_extension": ".py",
   "mimetype": "text/x-python",
   "name": "python",
   "nbconvert_exporter": "python",
   "pygments_lexer": "ipython3",
   "version": "3.7.4"
  }
 },
 "nbformat": 4,
 "nbformat_minor": 2
}
