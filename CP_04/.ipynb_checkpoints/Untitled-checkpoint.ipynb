{
 "cells": [
  {
   "cell_type": "markdown",
   "metadata": {},
   "source": [
    "# Ejercicio 1: 1, 2, y p ¡qué norma más chévere! (80 000 créditos)\n",
    "Dado el vector x = [1, 2, . . . , 1000],\n",
    "- a) (10 000 créditos) Calcule la norma 1 de x.\n",
    "### Respuesta\n",
    "    $$||x||_{1} = \\sum^{1000}_{i=1}|a_{i}|$$\n",
    "- b) (10 000 créditos) Calcule la norma 2 de x.\n",
    "### Respuesta\n",
    "    $$ ||x||_{1} = \\sqrt{ \\sum^{1000}_{i=1}a_{i}^{2}}$$\n",
    "- c) (10 000 créditos) Calcule la norma p de x cuando p = 14.\n",
    "    $$ ||x||_{1} = \\sqrt[p]{ \\sum^{1000}_{i=1}|a_{i}|^{p}}$$\n",
    "- d) (50 000 créditos) Compruebe “experimentalmente” que: $\\lim_{p\\to\\infty} ||x||_{p} = ||x||_{\\infty}$, determine para qué valores de p, la norma p del vector x “se parece” a la norma infinito."
   ]
  },
  {
   "cell_type": "code",
   "execution_count": null,
   "metadata": {},
   "outputs": [],
   "source": []
  },
  {
   "cell_type": "markdown",
   "metadata": {},
   "source": [
    "# Ejercicio 2: SELs, residuos y errores (150 000 créditos)\n",
    "Dados el sistema de ecuaciones lineales:\n",
    "$\n",
    "\n",
    "\\begin{bmatrix}\n",
    "1 & 1 \\\\\n",
    "1.0000001 & 1\n",
    "\\end{bmatrix}\n",
    "\\begin{bmatrix}\n",
    "x1\\\\\n",
    "x2\n",
    "\\end{bmatrix}\n",
    "\n",
    "\\begin{bmatrix}\n",
    "2\\\\\n",
    "2,0000001 \n",
    "\\end{bmatrix}\n",
    "$\n",
    "\n",
    "que tiene solución exacta: $x = [1; 1]^t$, y la solución aproximada $\\bar{x} = [−1; 3,0001]$:\n",
    "- a) (20 000 créditos) Calcule el residual asociado a x.\n",
    "- b) (20 000 créditos) Calcule el error absoluto asociado a x\n",
    "- c) (20 000 créditos) Calcule una solución del sistema usando la factorización PLU que está\n",
    "    implementada en Python. Sea $x_P$ esa solución.\n",
    "- d) (20 000 créditos) Calcule el residual asociado a xp.\n",
    "- e) (20 000 créditos) Calcule el error absoluto asociado a xp.\n",
    "- f) (50 000 créditos) ¿Cu´antas cifras significativas correctas tiene xp como aproximaci´on de x?\n"
   ]
  },
  {
   "cell_type": "markdown",
   "metadata": {},
   "source": [
    "# Ejercicio 3: Todo depende de la norma con que se mire (80000 créditos)\n",
    "Dada la matriz\n",
    "$\n",
    "A =\n",
    "\\begin{pmatrix}\n",
    "4 & -3 & 6 & 8 \\\\\n",
    "1 & -2 & 7 & 9 \\\\\n",
    "5 & 8 & 9 & -4 \\\\\n",
    "3 & 2 & 7 & 1\n",
    "\\end{pmatrix}\n",
    "$\n",
    "\n",
    "calcule\n",
    "- a) $||A||_1$ (10 000 créditos).\n",
    "### Respuesta\n",
    "    $$ ||A||_1 = \\max_j \\sum_{i=1}^{n} |a_{ij}|$$\n",
    "    mayor suma de los módulos de los elementos por columna\n"
   ]
  },
  {
   "cell_type": "code",
   "execution_count": 31,
   "metadata": {},
   "outputs": [
    {
     "ename": "AttributeError",
     "evalue": "'numpy.ndarray' object has no attribute 'abs'",
     "output_type": "error",
     "traceback": [
      "\u001b[0;31m---------------------------------------------------------------------------\u001b[0m",
      "\u001b[0;31mAttributeError\u001b[0m                            Traceback (most recent call last)",
      "\u001b[0;32m<ipython-input-31-7964645faa9c>\u001b[0m in \u001b[0;36m<module>\u001b[0;34m\u001b[0m\n\u001b[1;32m      3\u001b[0m \u001b[0msol\u001b[0m \u001b[0;34m=\u001b[0m \u001b[0;36m0\u001b[0m\u001b[0;34m\u001b[0m\u001b[0;34m\u001b[0m\u001b[0m\n\u001b[1;32m      4\u001b[0m \u001b[0;32mfor\u001b[0m \u001b[0mi\u001b[0m \u001b[0;32min\u001b[0m \u001b[0mA\u001b[0m\u001b[0;34m:\u001b[0m\u001b[0;34m\u001b[0m\u001b[0;34m\u001b[0m\u001b[0m\n\u001b[0;32m----> 5\u001b[0;31m     \u001b[0msol\u001b[0m \u001b[0;34m=\u001b[0m \u001b[0mmax\u001b[0m\u001b[0;34m(\u001b[0m\u001b[0mi\u001b[0m\u001b[0;34m.\u001b[0m\u001b[0mabs\u001b[0m\u001b[0;34m(\u001b[0m\u001b[0;34m)\u001b[0m\u001b[0;34m.\u001b[0m\u001b[0msum\u001b[0m\u001b[0;34m(\u001b[0m\u001b[0;34m)\u001b[0m\u001b[0;34m,\u001b[0m\u001b[0msol\u001b[0m\u001b[0;34m)\u001b[0m\u001b[0;34m\u001b[0m\u001b[0;34m\u001b[0m\u001b[0m\n\u001b[0m\u001b[1;32m      6\u001b[0m \u001b[0mprint\u001b[0m\u001b[0;34m(\u001b[0m\u001b[0msol\u001b[0m\u001b[0;34m)\u001b[0m\u001b[0;34m\u001b[0m\u001b[0;34m\u001b[0m\u001b[0m\n",
      "\u001b[0;31mAttributeError\u001b[0m: 'numpy.ndarray' object has no attribute 'abs'"
     ]
    }
   ],
   "source": [
    "import numpy as np\n",
    "A = np.array([[4,-3,6,8],[1,-2,7,9],[5,8,9,-4],[3,2,7,1]])\n",
    "sol = 0\n",
    "for i in A:\n",
    "    temp = 0\n",
    "    for j in i:\n",
    "        t\n",
    "print(sol)"
   ]
  },
  {
   "cell_type": "markdown",
   "metadata": {},
   "source": [
    "- b) $||A||_2$ (10 000 créditos).\n",
    "### Respuesta\n",
    "    $$ ||A||_2 = \\sqrt{\\lambda_{max}(A^tA)}$$\n",
    "    \n",
    "- c) $||A||_∞$ (10 000 créditos).\n",
    "- d) $||A||_F$ (50 000 créditos)."
   ]
  }
 ],
 "metadata": {
  "kernelspec": {
   "display_name": "Python 3",
   "language": "python",
   "name": "python3"
  },
  "language_info": {
   "codemirror_mode": {
    "name": "ipython",
    "version": 3
   },
   "file_extension": ".py",
   "mimetype": "text/x-python",
   "name": "python",
   "nbconvert_exporter": "python",
   "pygments_lexer": "ipython3",
   "version": "3.7.4"
  }
 },
 "nbformat": 4,
 "nbformat_minor": 2
}
