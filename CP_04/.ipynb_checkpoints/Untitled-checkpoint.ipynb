{
 "cells": [
  {
   "cell_type": "markdown",
   "metadata": {},
   "source": [
    "# Ejercicio 1: 1, 2, y p ¡qué norma más chévere! (80 000 créditos)\n",
    "Dado el vector x = [1, 2, . . . , 1000],\n",
    "- a) (10 000 créditos) Calcule la norma 1 de x.\n",
    "### Respuesta\n",
    "    $$||x||_{1} = \\sum^{1000}_{i=1}|a_{i}|$$\n",
    "- b) (10 000 créditos) Calcule la norma 2 de x.\n",
    "### Respuesta\n",
    "    $$ ||x||_{1} = \\sqrt{ \\sum^{1000}_{i=1}a_{i}^{2}}$$\n",
    "- c) (10 000 créditos) Calcule la norma p de x cuando p = 14.\n",
    "### Respuesta\n",
    "    $$ ||x||_{1} = \\sqrt[p]{ \\sum^{1000}_{i=1}|a_{i}|^{p}}$$\n",
    "- d) (50 000 créditos) Compruebe “experimentalmente” que: $\\lim_{p\\to\\infty} ||x||_{p} = ||x||_{\\infty}$, determine para qué valores de p, la norma p del vector x “se parece” a la norma infinito.\n",
    "### Respuesta\n",
    "    Supongamos que $|x_i| = \\max{x_n},1 \\leq n \\leq 1000$\n",
    "    $$ ||x||_p = \\left[ \\sum_{n=1}^{100} |x_n|^p \\right]^{\\frac{1}{p}} = |x_i| \\left[ \\sum_{n=1}^{1000} \\left|\\frac{x_n}{x_i}\\right|\\right]^{\\frac{1}{p}}$$\n",
    "    \n",
    "    como $\\forall n \\not =  i |x_n| < |x_i| \\Rightarrow \\left|\\frac{x_n}{x_i}\\right| < 1$\n",
    "    $$ \\sum_{n=1}^{1000} \\left[ \\left|\\frac{x_n}{x_i}\\right|^p\\right]^{\\frac{1}{p}} \\to 1, p\\to \\infty$$\n",
    "    $$ \\lim_{p\\to\\infty}||x||_p = \\max{x_n}, ,1 \\leq n \\leq 1000$$\n",
    "    luego $\\lim_{p\\to\\infty} ||x||_{p} = ||x||_{\\infty}$"
   ]
  },
  {
   "cell_type": "markdown",
   "metadata": {},
   "source": [
    "# Ejercicio 2: SELs, residuos y errores (150 000 créditos)\n",
    "Dados el sistema de ecuaciones lineales:\n",
    "$\\begin{bmatrix}\n",
    "1 & 1 \\\\\n",
    "1.0000001 & 1\n",
    "\\end{bmatrix}\\begin{bmatrix}\n",
    "x1\\\\\n",
    "x2\n",
    "\\end{bmatrix}=\\begin{bmatrix}\n",
    "2\\\\\n",
    "2,0000001 \n",
    "\\end{bmatrix}$\n",
    "\n",
    "que tiene solución exacta: $x = [1; 1]^t$, y la solución aproximada $\\bar{x} = [−1; 3,0001]$:\n",
    "- a) (20 000 créditos) Calcule el residual asociado a x."
   ]
  },
  {
   "cell_type": "code",
   "execution_count": 1,
   "metadata": {},
   "outputs": [
    {
     "name": "stdout",
     "output_type": "stream",
     "text": [
      "[-1.00e-04 -9.98e-05]\n"
     ]
    }
   ],
   "source": [
    "import numpy as np\n",
    "A = np.array([[1,1],[1.0000001,1]])\n",
    "x = np.array([1,1])\n",
    "x_ = np.array([-1,3.0001])\n",
    "b = A@x\n",
    "r = b - A@x_\n",
    "print(r)"
   ]
  },
  {
   "cell_type": "markdown",
   "metadata": {},
   "source": [
    "- b) (20 000 créditos) Calcule el error absoluto asociado a x"
   ]
  },
  {
   "cell_type": "code",
   "execution_count": 2,
   "metadata": {},
   "outputs": [
    {
     "data": {
      "text/plain": [
       "array([2.    , 2.0001])"
      ]
     },
     "execution_count": 2,
     "metadata": {},
     "output_type": "execute_result"
    }
   ],
   "source": [
    "e = abs(x - x_)\n",
    "e"
   ]
  },
  {
   "cell_type": "markdown",
   "metadata": {},
   "source": [
    "- c) (20 000 créditos) Calcule una solución del sistema usando la factorización PLU que está\n",
    "    implementada en Python. Sea $x_P$ esa solución."
   ]
  },
  {
   "cell_type": "code",
   "execution_count": 3,
   "metadata": {},
   "outputs": [
    {
     "data": {
      "text/plain": [
       "array([1., 1.])"
      ]
     },
     "execution_count": 3,
     "metadata": {},
     "output_type": "execute_result"
    }
   ],
   "source": [
    "import scipy.linalg\n",
    "s = np.array([2,2.0000001])\n",
    "lu,piv = scipy.linalg.lu_factor(A)\n",
    "xp = scipy.linalg.lu_solve((lu,piv),s)\n",
    "xp"
   ]
  },
  {
   "cell_type": "markdown",
   "metadata": {},
   "source": [
    "- d) (20 000 créditos) Calcule el residual asociado a xp."
   ]
  },
  {
   "cell_type": "code",
   "execution_count": 4,
   "metadata": {},
   "outputs": [
    {
     "name": "stdout",
     "output_type": "stream",
     "text": [
      "[0.0000000e+00 4.4408921e-16]\n"
     ]
    }
   ],
   "source": [
    "x = np.array([1,1])\n",
    "b = A@x\n",
    "r = b - A@xp\n",
    "print(r)"
   ]
  },
  {
   "cell_type": "markdown",
   "metadata": {},
   "source": [
    "- e) (20 000 créditos) Calcule el error absoluto asociado a xp."
   ]
  },
  {
   "cell_type": "code",
   "execution_count": 5,
   "metadata": {},
   "outputs": [
    {
     "data": {
      "text/plain": [
       "array([2.22044627e-09, 2.22044627e-09])"
      ]
     },
     "execution_count": 5,
     "metadata": {},
     "output_type": "execute_result"
    }
   ],
   "source": [
    "e = abs(x-xp)\n",
    "e"
   ]
  },
  {
   "cell_type": "markdown",
   "metadata": {},
   "source": [
    "- f) (50 000 créditos) ¿Cuántas cifras significativas correctas tiene xp como aproximación de x?"
   ]
  },
  {
   "cell_type": "code",
   "execution_count": 6,
   "metadata": {},
   "outputs": [
    {
     "data": {
      "text/plain": [
       "10"
      ]
     },
     "execution_count": 6,
     "metadata": {},
     "output_type": "execute_result"
    }
   ],
   "source": [
    "err_rel = abs(x-xp)/abs(x)\n",
    "k = 0\n",
    "while err_rel[0] < (1/2)*10**(1-k) or err_rel[1] < (1/2)*10**(1-k):\n",
    "    k+=1\n",
    "k"
   ]
  },
  {
   "cell_type": "markdown",
   "metadata": {},
   "source": [
    "# Ejercicio 3: Todo depende de la norma con que se mire (80000 créditos)\n",
    "Dada la matriz\n",
    "$\n",
    "A =\n",
    "\\begin{pmatrix}\n",
    "4 & -3 & 6 & 8 \\\\\n",
    "1 & -2 & 7 & 9 \\\\\n",
    "5 & 8 & 9 & -4 \\\\\n",
    "3 & 2 & 7 & 1\n",
    "\\end{pmatrix}\n",
    "$\n",
    "\n",
    "calcule\n",
    "- a) $||A||_1$ (10 000 créditos).\n",
    "### Respuesta\n",
    "    $$ ||A||_1 = \\max_j \\sum_{i=1}^{n} |a_{ij}|$$\n"
   ]
  },
  {
   "cell_type": "code",
   "execution_count": 7,
   "metadata": {},
   "outputs": [
    {
     "name": "stdout",
     "output_type": "stream",
     "text": [
      "26\n"
     ]
    }
   ],
   "source": [
    "\n",
    "A = np.array([[4,-3,6,8],[1,-2,7,9],[5,8,9,-4],[3,2,7,1]])\n",
    "sol = 0\n",
    "for i in A:\n",
    "    temp = 0\n",
    "    for j in i:\n",
    "        temp += abs(j)\n",
    "    sol = max(sol,temp)\n",
    "print(sol)"
   ]
  },
  {
   "cell_type": "markdown",
   "metadata": {},
   "source": [
    "- b) $||A||_2$ (10 000 créditos).\n",
    "### Respuesta\n",
    "    $$ ||A||_2 = \\sqrt{\\lambda_{max}(A^tA)}$$\n",
    "    "
   ]
  },
  {
   "cell_type": "code",
   "execution_count": 8,
   "metadata": {},
   "outputs": [
    {
     "data": {
      "text/plain": [
       "310.5524598140576"
      ]
     },
     "execution_count": 8,
     "metadata": {},
     "output_type": "execute_result"
    }
   ],
   "source": [
    "eigenvalues = np.linalg.eig(A.transpose()@A)\n",
    "max(eigenvalues[0])"
   ]
  },
  {
   "cell_type": "markdown",
   "metadata": {},
   "source": [
    "- c) $||A||_∞$ (10 000 créditos).\n",
    "$$||A||_∞ = \\max_i \\sum_{j=1}{n}|a_{ij}|$$"
   ]
  },
  {
   "cell_type": "code",
   "execution_count": 9,
   "metadata": {},
   "outputs": [
    {
     "name": "stdout",
     "output_type": "stream",
     "text": [
      "29\n"
     ]
    }
   ],
   "source": [
    "import numpy as np\n",
    "A = np.array([[4,-3,6,8],[1,-2,7,9],[5,8,9,-4],[3,2,7,1]])\n",
    "sol = 0\n",
    "# recorrer las filas de la matriz transpuesta es equivalente a recorrer las columnas\n",
    "for i in A.transpose():\n",
    "    temp = 0\n",
    "    for j in i:\n",
    "        temp += abs(j)\n",
    "    sol = max(sol,temp)\n",
    "print(sol)"
   ]
  },
  {
   "cell_type": "markdown",
   "metadata": {},
   "source": [
    "- d) $||A||_F$ (50 000 créditos).\n",
    "\n",
    "Norma de Frobenius\n",
    "$$ ||A||_F = \\sqrt{\\sum_{i=1}^{m}\\sum_{j=1}^{n} |a_{ij}|^2} = \\sqrt{Traza(A^t*A)}$$"
   ]
  },
  {
   "cell_type": "code",
   "execution_count": 10,
   "metadata": {},
   "outputs": [
    {
     "name": "stdout",
     "output_type": "stream",
     "text": [
      "22.561028345356956\n"
     ]
    }
   ],
   "source": [
    "print(np.sqrt((A.transpose()@A).trace()))"
   ]
  },
  {
   "cell_type": "markdown",
   "metadata": {},
   "source": [
    "# Ejercicio 4: Condición (ni necesaria ni suficiente). (150000 créditos)\n",
    "- a) ¿Cuál es la definición de condición de una matriz?\n",
    "### Respuesta\n",
    "    Se le dice condición de una matriz al número que define cuanto varía el error relativo asociado a la solución de ésta\n",
    "\n",
    "- b) Demuestre que la condición de una matriz A (cond(A)) es siempre mayor o igual que 1.\n",
    "    Sugerencia: La norma de la matriz identidad siempre es mayor o igual que 1.\n",
    "### Respuesta\n",
    "    $$ 1 = ||AA^{-1}|| \\leq ||A|| ||A^{-1}|| = cond(A)$$\n",
    "- c) ¿Qué implicaciones tiene que una matriz esté mal condicionada?\n",
    "### Respuesta\n",
    "    Si una matriz está mal condicionada, pequeños desvíos en el residual conllevarán grandes desvíos en la solución"
   ]
  },
  {
   "cell_type": "markdown",
   "metadata": {},
   "source": [
    "# Ejercicio 5: Para justificar una respuesta del ejercicio anterior (200000 créditos)\n",
    "Sea el sistema de ecuaciones lineales $Ax = b$, y sea $\\bar{x}$ una solución aproximada. La norma del error absoluto se define como $||e|| = ||x − \\bar{x}||$, la norma del residual se define como $||r|| = ||b − A\\bar{x}||$, y\n",
    "la condición de una matriz A se define como $cond(A) = ||A||||A−1\n",
    "||$.\n",
    "- a) Demuestre que r = Ae, y por lo tanto $e = A^{-1}r$.\n",
    "### Respuesta\n",
    "    $$ r = b - A\\bar{x}$$\n",
    "    $$ r = Ax - A\\bar{x}$$\n",
    "    $$ r = A(x-\\bar{x}$$\n",
    "    $$ r = Ae $$\n",
    "    Multiplicando $A^{-1}$ por la izquierda \n",
    "    $$ A^{-1}r = A^{-1}Ae $$\n",
    "    $$ A^{-1}r = In* e $$\n",
    "    $$ e = A^{-1}r $$\n",
    "- b) Tomando en cuenta que $r = Ae$, $e = A^{-1}r$, $b = Ax$, $x = A^{-1}b$, demuestre que:\n",
    " $$ \\frac{||r||}{cond(A)||b||}\\leq\\frac{||e||}{||x||}\\leq\\frac{cond(A)||r||}{||b||}$$\n",
    " ### Respuesta\n",
    "     $ ||e|| = ||A^{-1}r|| \\leq ||A^{-1}||||r||\\leq ||A^{-1}||||b|| \\frac{||r||}{||b||} \\leq ||A^{-1}||||Ax|| \\frac{||r||}{||b||} \\leq cond(A)||x|| \\frac{||r||}{||b||}$\n",
    "    $$\\tag{1} ||e|| \\leq \\frac{cond(A)||x||||r||}{||b||}$$\n",
    "    Dividimos por ||x|| en ambos miembros\n",
    "    $$\\frac{||e||}{||x||} \\leq cond(A)\\frac{||r||}{||b||} $$\n",
    "    $$||r|| = ||Ae||\\leq ||A||||e|| \\leq ||A|| ||x|| \\frac{||e||}{||x||} \\leq ||A||||A^{-1}||||b||\\frac{||e||}{||x||} $$\n",
    "    $$ ||r|| \\leq cond(A) ||b|| \\frac{||e||}{||x||} $$\n",
    "    Dividiendo por $cond(A) ||b|| $\n",
    "    $$\\tag{2}\\frac{||r||}{cond(A)||b||} \\leq \\frac{||e||}{||x||}$$\n",
    "    \n",
    "    Luego, de (1) y (2) tenemos:\n",
    "    $$ \\frac{||r||}{cond(A)||b||}\\leq\\frac{||e||}{||x||}\\leq\\frac{cond(A)||r||}{||b||}$$"
   ]
  },
  {
   "cell_type": "markdown",
   "metadata": {},
   "source": [
    "# Ejercicio 6: Condición sin inversa (100 000 o 200 000 créditos)\n",
    "La condición de una función depende de la norma con que se calcule. Se habla de condición TAL,\n",
    "cuando se usa la norma TAL para calcularla. Con esa introducción,\n",
    "- a) Diga una forma de calcular la condición 2 de una matriz A, sin calcular la inversa de A (100 000 créditos).\n",
    "    ### Respuesta\n",
    "    La Condición 2 de una matriz se puede calcular mediante el cociente entre el valor singular mas grande y el más pequeño\n",
    "    \n",
    "- b) Diga una forma de aproximar cualquier condición de una matriz A sin calcular la inversa de A (100 000 créditos).\n",
    "    ### Respuesta\n",
    "    Sabemos que todas las normas son equivalentes, por tanto:\n",
    "    $$ ||x||_p = \\alpha||x||_q \\tag{1}$$\n",
    "    luego, tenemos del inciso anterior:\n",
    "    $$ ||A||_2 ||A^{-1}||_2 = \\frac{\\sigma_1}{\\sigma_2} \\tag{2}$$\n",
    "    \n",
    "    de (1) tenemos:\n",
    "    $$ ||A||_p||A^{-1}||_p = \\alpha ||A||_2 ||A^{-1}||_2$$\n",
    "    Sustituimos (2)\n",
    "    $$ ||A||_p||A^{-1}||_p = \\alpha\\frac{\\sigma_1}{\\sigma_2} $$"
   ]
  },
  {
   "cell_type": "markdown",
   "metadata": {},
   "source": [
    "# Ejercicio 7: El regreso de las matrices de la CP 0 (300000 créditos)\n",
    "Dados la matriz $A_n = α_{i,j}$ , donde $α_{i,i} = 0,5$, para todo $i = \\overline{1, n}$, $α_{i,i+1} = 1$, para todo $i = \\overline{1, n − 1}$,\n",
    "y $α_{i,j} = 0$ en otro caso, y el vector columna $1_n$, que tiene dimensión n y un 1 en cada componente,\n",
    "$x_n$ la solución exacta del sistema $A_nx = 1_n, r_n = ||1_n − A_nx_n||$ el residual que se obtiene para la\n",
    "solución exacta en el sistema de tamaño n:\n",
    "- a) Escriba una función en Python, que grafique para cada valor de n entre 2 y 200, el valor del residual $r_n$ (50 000 créditos)"
   ]
  },
  {
   "cell_type": "code",
   "execution_count": 35,
   "metadata": {},
   "outputs": [
    {
     "data": {
      "image/png": "[encoded data removed]",
      "text/plain": [
       "<Figure size 432x288 with 1 Axes>"
      ]
     },
     "metadata": {
      "needs_background": "light"
     },
     "output_type": "display_data"
    }
   ],
   "source": [
    "import numpy as np\n",
    "import scipy\n",
    "import matplotlib.pyplot as plt\n",
    "def generate_matrix(n):\n",
    "    if n < 2:\n",
    "        print('Invalid input')\n",
    "        return\n",
    "    A = np.zeros((n,n))\n",
    "    for i,vec in enumerate(A):\n",
    "        A[i,i] = 0.5\n",
    "        if i+1 < n:\n",
    "            A[i,i+1] = 1\n",
    "    return A\n",
    "def calc_residual():\n",
    "    residuals = []\n",
    "    for i in range(2,200):\n",
    "        b = np.ones(i)\n",
    "        A = generate_matrix(i)\n",
    "        lu,piv = scipy.linalg.lu_factor(A)\n",
    "        xn = scipy.linalg.lu_solve((lu,piv),b)\n",
    "        residuals.append(np.linalg.norm(b-A@xn))\n",
    "    plt.plot(residuals)\n",
    "calc_residual()"
   ]
  },
  {
   "cell_type": "markdown",
   "metadata": {},
   "source": [
    "- b) Escriba una función en Python, que grafique, para cada valor de n entre 2 y 200, el valor de la condición de $A_n, cond(A_n)$ (50 000 créditos)"
   ]
  },
  {
   "cell_type": "code",
   "execution_count": 32,
   "metadata": {},
   "outputs": [
    {
     "data": {
      "image/png": "[encoded data removed]",
      "text/plain": [
       "<Figure size 432x288 with 1 Axes>"
      ]
     },
     "metadata": {
      "needs_background": "light"
     },
     "output_type": "display_data"
    }
   ],
   "source": [
    "def calc_condition():\n",
    "    conditions = []\n",
    "    for i in range(2,200):\n",
    "        A = generate_matrix(i)\n",
    "        conditions.append(np.linalg.cond(A))\n",
    "    plt.plot(conditions)\n",
    "calc_condition()"
   ]
  },
  {
   "cell_type": "markdown",
   "metadata": {},
   "source": [
    "- c) Tomando en cuenta los valores de residuales $r_n$ (que están calculados para ¡la solución exacta!), ¿para qué valores de n la condición de la matriz afecta el valor del residual? (50 000 créditos)"
   ]
  },
  {
   "cell_type": "markdown",
   "metadata": {},
   "source": [
    "- d) A partir de los incisos, conjeture para qué valores de n, se obtendrían residuales erroneos en una aritmética cualquiera F(β, p, m, M). Argumente su conjetura con elementos numéricos (150 000 créditos)."
   ]
  }
 ],
 "metadata": {
  "kernelspec": {
   "display_name": "Python 3",
   "language": "python",
   "name": "python3"
  },
  "language_info": {
   "codemirror_mode": {
    "name": "ipython",
    "version": 3
   },
   "file_extension": ".py",
   "mimetype": "text/x-python",
   "name": "python",
   "nbconvert_exporter": "python",
   "pygments_lexer": "ipython3",
   "version": "3.7.4"
  }
 },
 "nbformat": 4,
 "nbformat_minor": 2
}
