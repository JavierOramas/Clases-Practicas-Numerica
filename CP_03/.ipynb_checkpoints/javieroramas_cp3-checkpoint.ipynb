{
 "cells": [
  {
   "cell_type": "markdown",
   "metadata": {},
   "source": [
    "# Ejercicio 1: Descomposición PLU (30000 créditos)\n",
    "Dada una matriz A cuadrada y no singular,\n",
    "- a) ¿En qué consiste la factorización (o descomposición) PLU de esa matriz? (10 000 créditos)\n",
    "\n",
    "### Respuesta\n",
    "    La Factorización PLU de esa matriz consiste en encontrar una terna de Matrices que cumpla:\n",
    "       $$ PA = LU $$\n",
    "- b) ¿Qué características tiene cada una de las matrices de la factorización? (10 000 créditos)\n",
    "### Respuesta\n",
    "    - La matriz P o de permutación va a estar formada por una de las posibles permutaciones de las filas de la matriz ideintidad\n",
    "    - La matriz L será una matriz triangular inferiror con su diagonal principal igual a 1\n",
    "    - La matriz U será una matriz triangular con su digonal principal no nula\n",
    "    \n",
    "- c) ¿Cuál es la forma de resolver un sistema de ecuaciones lineales Ax = b usando la factorización PLU de A? (10 000 créditos)\n",
    "### Respuesta\n",
    "    $$ Ax = b $$\n",
    "    $$ Ax = (LU)x = L(Ux)$$\n",
    "    Una posible estrategia puede ser tomar:\n",
    "    $$ Ly = b $$\n",
    "    con $ y = Ux$,\n",
    "    como L es un sistema escalonado se puede resolver por sustitución.\n",
    "    \n",
    "    Luego con los valores encontrados, podemos resolver el problema inicial planteando:\n",
    "    $$ Ux = y$$\n",
    "    Como U es un sistema escalonado, podemos resolver por sustitución también\n",
    "    \n",
    "    "
   ]
  },
  {
   "cell_type": "markdown",
   "metadata": {},
   "source": [
    "# Ejercicio 2: Descomposición PLU en la computadora (30000 créditos)\n",
    "En el lenguaje de programación de su preferencia, ¿cómo se puede obtener la factorización PLU de una matriz?"
   ]
  },
  {
   "cell_type": "code",
   "execution_count": 18,
   "metadata": {},
   "outputs": [
    {
     "name": "stdout",
     "output_type": "stream",
     "text": [
      "[[0. 1. 0.]\n",
      " [0. 0. 1.]\n",
      " [1. 0. 0.]]\n",
      "[[1.         0.         0.        ]\n",
      " [0.14285714 1.         0.        ]\n",
      " [0.57142857 0.5        1.        ]]\n",
      "[[7.         8.         9.        ]\n",
      " [0.         0.85714286 1.71428571]\n",
      " [0.         0.         0.        ]]\n"
     ]
    }
   ],
   "source": [
    "import numpy as np\n",
    "from scipy import linalg\n",
    "A  = np.array([[1,2,3],[4,5,6],[7,8,9]])\n",
    "P,L,U = linalg.lu(A)\n",
    "print(P)\n",
    "print(L)\n",
    "print(U)"
   ]
  },
  {
   "cell_type": "code",
   "execution_count": 20,
   "metadata": {},
   "outputs": [
    {
     "name": "stdout",
     "output_type": "stream",
     "text": [
      "[[1. 2. 3.]\n",
      " [4. 5. 6.]\n",
      " [7. 8. 9.]]\n"
     ]
    }
   ],
   "source": [
    "print(P@L@U)"
   ]
  },
  {
   "cell_type": "markdown",
   "metadata": {},
   "source": [
    "# Ejercicio 3: Sobre las estrategias de pivote (40 000 créditos)\n",
    "“En las implementaciones computacionales del método de Gauss las estrategias de pivote juegan\n",
    "un papel importante y pueden llegar a ser vitales.”\n",
    "- a) Justifique la afirmación anterior.\n",
    "### Respuesta\n",
    "    Las estrategias de pivote juegan un papel muy importante en las implementaciones del método de Gauss debido a que si bien cualquier valor distinto de 0 puede ser utilizada como pivote, debido a las operaciones que hay que realizar, este pivote puede hacer que en cierto momento el error puede ser amplificado debido a una mala elección del pivote, resultando catastrófico\n",
    "- b) Mencione y describa 3 estrategias de pivote no triviales\n",
    "### Respuesta\n",
    "    - Estrategia de Pivoteo Parcial\n",
    "    Sea $a_{kk}$ el elemento en donde se desea colocar el nuevo pivote, se selecciona en la misma columan el elemento de mayor valor absoluto, tal que:\n",
    "        $$|a_{pk} = max |a_{ik}|; k \\leq i \\leq n$$\n",
    "    se intercambian las filas p y k con $ p \\not = k $\n",
    "    Esta estretegia tiene una complejidad de $O(n^3)$ dado que requiere buscar el máximo por fila $O(n^2)$ en n filas $\\Rightarrow O(n^3)$  \n",
    "    - Estrategia de Pivoteo Parcial Escalado\n",
    "     Esta estrategia coloca al elemento el la posción pivote que es la más grande en relación con las entradas en su fila. Se define un factor de escala $s_i$ para cada fila como:\n",
    "     $$s_{i} = max_{1\\leq j \\leq n} |a_{ij}|$$\n",
    "     si $s_i = 0$ para alguna i, el sistema tiene valrias soluciones, en caso contrario, para determinar el intercambio de fila se selecciona el último entero p tal que\n",
    "     $$ \\frac{|a_p1|}{s_p} = max_{1\\leq k \\leq n} \\frac{|a_{k1}|}{s_k}$$\n",
    "     De manera similar, para eliminar la variable $x_i$ se selecciona el entero mas pequeño $p \\geq i$\n",
    "     $$ \\frac{|a_pi|}{s_p} = max_{1\\leq k \\leq n} \\frac{|a_{ki}|}{s_k}$$\n",
    "     \n",
    "     Esta estretegia tiene una complejidad de $O(\\frac{n^3}{3})$ \n",
    "    - Estrategia de Pivoteo Completo\n",
    "    Esta estrategia puede incluir intercambio de filas y columnas, en el k-ésimo paso busca la entrada de mayor magnitud $a_{kk} = max(a_{ij}); k \\leq j \\leq n, k \\leq i \\leq n$ \n",
    "    Esta estrategia tiene una comlejidad $O(n^3)$ y solo es recomendable utilizarla cuando la precisión requerida justifique el tiempo "
   ]
  },
  {
   "cell_type": "markdown",
   "metadata": {},
   "source": [
    "# Ejercicio 4: Una para todas... (40 000 créditos)\n",
    "Dada una matriz A cuadrada y no singular sin ninguna otra característica relevante, diga cuál es la forma más adecuada para resolver k sistemas de ecuaciones lineales\n",
    "$$Ax = b_i, i = \\overline{1, k}$$\n",
    "\n",
    "### Respuesta\n",
    "\n",
    "La mejor manera de resolver k SEL dada una matriz cuadrada y no singular A, es hallar su factorización PLU, de esta forma obtendremos en U una matriz triangular superior que puede ser utilizada para hallar la solución del SEL mediante substitución "
   ]
  },
  {
   "cell_type": "markdown",
   "metadata": {},
   "source": [
    "# Ejercicio 5: ¡Abajo el cálculo de la inversa! (40 000 créditos)\n",
    "Muestre que es posible evitar el cálculo de la inversa realizando las siguientes operaciones sin calcular la inversa de ninguna matriz. En todos los casos A y B son matrices, y x, e y son vectores con las dimensiones apropiadas para poder realizar las operaciones.\n",
    "- a) Calcule $y = A^{−1}x$, donde A y x son conocidos.\n",
    "### Respuesta\n",
    "Multiplicando A por la izquierda en ambos miembros\n",
    "$$ Ay = AA^{-1}x$$\n",
    "$$ Ay = I_nx$$\n",
    "$$ Ay = x $$\n",
    "\n",
    "- b) Calcule $ y = x^t A^{−1}B^{−1}x $, donde A, B y x son conocidos.\n",
    "### Respuesta\n",
    "    $$x^tA^{-1} = a^t \\Rightarrow (A^{{-1}^t})x = a$$\n",
    "    $ A^t* a = x $ resolvemos el sistema para hallar a y transponemos para hallar $a^t$. Luego $y - a^tB^{-1}x$ sustituimos en la ecuación original $ a^t = x^t A^{-1}$ Sabemos además que $ B^{-1}x = b \\Rightarrow Bb = x$ resolvemos el sistema para encontrar $ b \\Rightarrow y = a^tb $ Sustituyendo $ B^{-1}x = b $ teniendo $a^t$ y b tenemos la solución  "
   ]
  },
  {
   "cell_type": "markdown",
   "metadata": {},
   "source": [
    "# Ejercicio 6: ¡Diga NO a las maldiciones imperdonables! (50 000 créditos)\n",
    "“Y para terminar, aquí les presento una de las maldiciones imperdonables de la matemática numérica.” Dijo el profesor, y con un movimiento de su varita calculó la inversa de la matriz que flotaba delante de él. En medio del silencio que descendió sobre el local, el profesor preguntó en voz alta:\n",
    "“¿Alguien puede decirme tres motivos por los que calcular la inversa de una matriz es una maldición imperdonable?”. Como era de esperar, Hermione levantó la mano antes de que el profesor terminara la pregunta, y como era ya habitual, ante la ausencia de otras manos levantadas el profesor le pide que responda.\n",
    "\n",
    "- a) Mencione los tres argumentos que le oyó decir a Hermione aquel día. (10000 créditos por cada uno.)\n",
    "### Respuesta\n",
    "    - Es mucho mas costoso, dado que si se quiere calcular $A^{-1}B$ tenemos que computar la factorización de A seguida de sustituciones en cada columna de la matriz b, lo cual es mucho mas costoso que simplemente resolver el sistema\n",
    "    - Como aumenta la cantidad de operaciones a realizar, la precisión de los resultados disminuye sustancialmente \n",
    "    - Usualmente la inversa no es de gran interés a no ser en el campo de la estadísitca, por tanto es mejor utilizar vías mas estandarizadas y sencillas para resolver el resto de los problemas\n",
    "    \n",
    "- b) Diga cuál es la forma numéricamente correcta de calcular la inversa de una matriz (20000 créditos.).\n",
    "\n",
    "### Respuesta\n",
    "\n",
    "Sea $A \\in M_{n*n} $ una matriz a la que se le debe calcular la inversa\n",
    "\n",
    "Definimos $ B \\in M_{n*n} : B = A^{-1} \\Rightarrow AB = I_n $\n",
    "\n",
    "Realizamos el proceso de eliminación de Gauss para $( A|I_n) $\n",
    "\n",
    "A la matriz resultante en la izquierda le asignamos cada una de las columnas de la matriz resultante en la derecha\\\\\n",
    "\n",
    "Resolvemos los n SEL y cada uno de los resultados de obtenidos será el elemento correspondiente en B\n",
    "    "
   ]
  },
  {
   "cell_type": "markdown",
   "metadata": {},
   "source": [
    "# Ejercicio 7: Simetría y definición (100 000 créditos)\n",
    "Una matriz A simétrica y definida positiva siempre se puede descomponer de la forma $A = LL^{t}$\n",
    "donde L es una matriz triangular inferior. Esta descomposición se conoce como descomposición de\n",
    "Choleski.\n",
    "\n",
    "- a) En función de los elementos de A, ¿qué forma tienen los elementos de L?\n",
    "### Respuesta\n",
    "$$ l_{11} = \\sqrt{a_{11}} ... l_{kk} = \\sqrt{a_kk - \\sum_{r=1}^{k-1}b^2_{kr}} $$\n",
    "$$ b_{11} = \\frac{a_{n_1}}{l_{11}} ... b_{jk} = \\frac{1}{b_{kk}} \\left(a_kj - \\sum_{r=1}^{k-1}b_{kr}b_{jr}\\right) j = k+1 ... n $$\n",
    "- b) ¿Por qué es necesario que la matriz sea definida positiva?\n",
    "### Respuesta\n",
    "    Si la matriz no es definida positiva, la factorización de Choleski no es única\n",
    "- c) ¿Cómo puede usarse esta descomposición para resolver un sistema de ecuaciones lineales donde la matriz es simétrica y definida positiva?\n",
    "### Respuesta\n",
    "    Si tenemos un sistema de la forma Ax=b y es definida positiva y simétrica entonces se puede definir A como $A = LL^t$, luego resolvemos  $Ly = b$ y $L^tx = y$\n",
    "- d) ¿Qué complejidad computacional tiene resolver un sistema de ecuaciones lineales si la matriz es simétrica y definida positiva?\n",
    "### Respuesta\n",
    "    La complejidad temporal es $O(n^3|3)$, la mitad de las operaciones requeridas por el LU, si la matriz es definida simétrica positiva\n",
    "- e) ¿Cómo puede utilizarse este método para determinar si una matriz simétrica A es definida positiva?\n",
    "### Respuesta\n",
    "    Si L es una matriz de n*n trinagular inferior, podemos definr $A = LL^t$, entonces A es simétrica y definida positiva"
   ]
  },
  {
   "cell_type": "markdown",
   "metadata": {},
   "source": [
    "# Ejercicio 8: Matriz de trabajo (300 000 créditos)\n",
    "Dada $A ∈ R^{n×n}$ una matriz cuadrada no singular, demuestre que es posible obtener su factorización PLU usando únicamente la memoria que ocupa la matriz A y un vector de enteros de tamaño n.\n",
    "### Respuesta\n",
    " Si $A ∈ R^{n×n}$ con determinante distinto de 0, es una matriz a la que puede aplicarsele el método de Gauss sin hacer intercambio de filas entonces puede llevarse a la forma trinagular superior realizando transoformaciones de la forma $fx = fk +fi\\beta$\n",
    "entonces, estas transformaciones se pueden escribir como una matriz $M_i$ tal que su diagonal está formada por unos y la posición $K_{ij} = \\beta$\n",
    "\n",
    "Sea D la matriz diagonal  $D = M_1 ... M_s A$, como $M_i = M_1 M_2 ... M_s$  es inversible, existe $L = [M_1 ... M_x]^{-1} : LU =A$"
   ]
  }
 ],
 "metadata": {
  "kernelspec": {
   "display_name": "Python 3",
   "language": "python",
   "name": "python3"
  },
  "language_info": {
   "codemirror_mode": {
    "name": "ipython",
    "version": 3
   },
   "file_extension": ".py",
   "mimetype": "text/x-python",
   "name": "python",
   "nbconvert_exporter": "python",
   "pygments_lexer": "ipython3",
   "version": "3.7.4"
  }
 },
 "nbformat": 4,
 "nbformat_minor": 2
}
