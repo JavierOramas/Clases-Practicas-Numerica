{
 "cells": [
  {
   "cell_type": "markdown",
   "metadata": {},
   "source": [
    "# Ejercicio 1: Método gráfico (70 000 créditos)\n",
    "Dada la función $f(x) = cos(x) − x$,\n",
    "- a) Usando solamente el comando plot de matplotlib, encuentre un cero de f(x). (20 000\n",
    "    créditos)\n",
    "- b) ¿Proponga una cota para error absoluto que se comete al decir que el cero es el punto\n",
    "    encontrado por usted? (30 000 creditos)\n",
    "- c) ¿Cómo calculó esa cota? (20 000 créditos)"
   ]
  },
  {
   "cell_type": "code",
   "execution_count": 3,
   "metadata": {},
   "outputs": [
    {
     "data": {
      "image/png": "[encoded data removed]",
      "text/plain": [
       "<Figure size 432x288 with 1 Axes>"
      ]
     },
     "metadata": {
      "needs_background": "light"
     },
     "output_type": "display_data"
    }
   ],
   "source": [
    "from math import cos\n",
    "import numpy as np\n",
    "import matplotlib.pyplot as plt\n",
    "from mpl_toolkits.axes_grid.axislines import SubplotZero\n",
    "\n",
    "f = lambda x : cos(x) - x\n",
    "X = np.linspace(0.73, 0.74, 100)\n",
    "# X = np.linspace(-1, 1, 100)\n",
    "\n",
    "fig = plt.figure(1)\n",
    "ax = SubplotZero(fig,111)\n",
    "fig.add_subplot(ax)\n",
    "\n",
    "for direction in ['xzero', 'yzero']:\n",
    "    ax.axis[direction].set_axisline_style('-|>')\n",
    "    ax.axis[direction].set_visible(True)\n",
    "\n",
    "for direction in ['left', 'right', 'bottom', 'top']:\n",
    "    ax.axis[direction].set_visible(True)\n",
    "\n",
    "Y = [f(x) for x in X]\n",
    "ax.plot(X,Y)\n",
    "plt.show()"
   ]
  },
  {
   "cell_type": "markdown",
   "metadata": {},
   "source": [
    "$$\\bar{x} = 0.739, f(\\bar{x}) \\approx 0$$\n",
    "$$ |e| < \\frac{|0.74 - 0.738|}{2} = 0.001 $$\n",
    "\n",
    "La cora fue calculada utilizando un método similar al visto en la conferencia para acotar el error de la bisección."
   ]
  },
  {
   "cell_type": "markdown",
   "metadata": {},
   "source": [
    "# Ejercicio 2: Algunos detalles (numéricos) del método de Bisección (100 000 créditos)\n",
    "Si $[a_0, b_0]$ es el intervalo inicial para el algoritmo de bisección:\n",
    "- a) Demuestre que en cada paso del algoritmo se agrega una cifra significativa correcta binaria.\n",
    "    ### Respuesta\n",
    "    Sabemos que en cada paso de la bisección el error que se comete es menor que $\\frac{a-b}{2}$\n",
    "     \n",
    "    Pero como en cada paso el intervalo es dividido a la mitad, tendremos $\\frac{a-b}{2^n}$ como cota del error absoluto en el n-ésimo paso\n",
    "     \n",
    "    luego, en cada iteración se agrega una cifra significativa, de acuerdo con la ecuación:\n",
    "    $$ \\delta = \\frac{2(a-b)}{2^n(a_n+b_n)}, \\delta < \\frac{1}{2}\\beta^{1-k} $$\n",
    "     \n",
    "\n",
    "- b) ¿En una computadora que use el formato “double” del estándar 754 de la IEEE, ¿cuál es el\n",
    "    número máximo de iteraciones que tiene sentido hacer?\n",
    "    ### Respuesta\n",
    "    Como los \"double\" en el formato IEEE 754 están representados por una mantisa de 53 bits, hacer más de 53 iteraciónes no aportaría nada a la solución dado que ya no sería representable un número con más dígitos \n",
    "\n",
    "\n",
    "- c) Dado un error absoluto ε, determine cuántas iteraciones debe realizar el algoritmo para hallar\n",
    "    una solución que tenga un error absoluto menor que ε, si se comienza con el intervalo $[a_0, b_0]$.\n",
    "    ### Respuesta\n",
    "    $$ |p_n - p| \\leq 2^{N}(b-a) < ε $$\n",
    "    Se deberán realizar N iteraciónes, con N que satisface la ecuación anterior\n",
    "    \n",
    "- d) Dado un número entero r, determine cuántas iteraciones debe hacer el algoritmo para encontrar una solución con r cifras significativas correctas.\n",
    "    ### Respuesta\n",
    "    Como ya se vió en el inciso a, en cada paso se agrega una cifra significativa correcta, por tanto se deben realizar r iteraciones"
   ]
  },
  {
   "cell_type": "markdown",
   "metadata": {},
   "source": [
    "# Ejercicio 3: (En la teorı́a) es lo mismo, pero (en la numérica) no es igual (100 000 créditos)\n",
    "Que dos expresiones sean matemáticamente equivalentes no significa que sean iguales desde el punto\n",
    "de vista numérico. Eso se puede apreciar en el método de Bisección, como podrás comprobar en\n",
    "este ejercicio.\n",
    "- a) En cada paso del algoritmo se pudiera calcular el medio del intervalo por cualquiera de las dos vı́as siguientes, que son analı́ticamente equivalentes:\n",
    "    $$ p_n = \\frac{a+b}{2}, p_n = a+\\frac{b-a}{2}$$\n",
    "    Sin embargo, desde el punto de vista numérico, una de ellas es preferible a la otra. ¿Cuál es y por qué?\n",
    "    \n",
    "    ### Respuesta\n",
    "    La expresión p_n = a+\\frac{b-a}{2} es preferible dado que aunque cuando b-a está cerca de la precisión de la máquina puede introducir un error, éste no afecta significativamente el $p_n$ resultante, sin embargo, es posible que (b=a)/2 regrese un punto medio que ni siquera se encuentra en el intervalo $[a_n, b_n]$\n",
    "- b) Para aplicar el método de Bisección es necesario verificar si f (a)f (b) < 0. Sin embargo, realizar esa comprobación de esa manera puede ser numéricamente peligroso.\n",
    "    - a) ¿Qué problema puede aparecer si la comprobación se realiza de esa forma?\n",
    "        ### Respuesta\n",
    "        Puede soceder un overflow o underflow en la multiplicación de $f(a)f(b)$\n",
    "    - b) ¿Cuál es la forma numéricamente correcta, elegante e incluso más eficiente de realizar esa comprobación?\n",
    "        ### Respuesta\n",
    "        utilizando la función signum:\n",
    "           \n",
    "       $$\n",
    "           \\begin{equation}\n",
    "               \\label{Función signum}\n",
    "               sgn(x) = \\left\\{\n",
    "                           \\begin{array}{ll}\n",
    "                               -1 & x < 0\\\\\n",
    "                               0 & x = 0\\\\\n",
    "                               1 & x > 0\n",
    "                            \\end{array}\n",
    "                         \\right.\n",
    "           \\end{equation}\n",
    "           $$\n",
    "           \n",
    "      tomamos $sgn(f(a))sgn(f(b)) < 0$ en lugar de $f(a)f(b)<0$ \n"
   ]
  },
  {
   "cell_type": "markdown",
   "metadata": {},
   "source": [
    "# Ejercicio 4: Método de Bisección (100 000 créditos)\n",
    "En el lenguaje de programación de su preferencia:\n",
    "- a) Realice una implementación del método de Bisección, que sea elegante y eficiente tanto desdeel punto de vista computacional como numérico.\n",
    "\n",
    "- b) Use su implementación para encontrar una aproximación de $\\sqrt[3]{5}$ que tenga 9 cifras significativas correctas."
   ]
  },
  {
   "cell_type": "code",
   "execution_count": 125,
   "metadata": {},
   "outputs": [
    {
     "name": "stdout",
     "output_type": "stream",
     "text": [
      "4.5\n",
      "1.75\n",
      "0.375\n",
      "-0.3125\n",
      "0.03125\n",
      "-0.140625\n",
      "-0.0546875\n",
      "-0.01171875\n",
      "0.009765625\n",
      "-0.0009765625\n",
      "0.00439453125\n",
      "0.001708984375\n",
      "0.0003662109375\n",
      "-0.00030517578125\n",
      "3.0517578125e-05\n",
      "-0.0001373291015625\n",
      "-5.340576171875e-05\n",
      "-1.1444091796875e-05\n",
      "9.5367431640625e-06\n",
      "-9.5367431640625e-07\n",
      "4.291534423828125e-06\n",
      "1.6689300537109375e-06\n",
      "3.5762786865234375e-07\n",
      "-2.980232238769531e-07\n",
      "2.9802322387695312e-08\n",
      "-1.341104507446289e-07\n",
      "-5.21540641784668e-08\n",
      "-1.1175870895385742e-08\n",
      "9.313225746154785e-09\n",
      "-9.313225746154785e-10\n",
      "4.190951585769653e-09\n",
      "-9.313225746154785e-10\n"
     ]
    }
   ],
   "source": [
    "from numpy import sign\n",
    "\n",
    "def bisection(a,b,f,tol):\n",
    "    iter_count = 0\n",
    "    while((b-a) > tol): \n",
    "        m = a + (b-a)/2\n",
    "        print(m)\n",
    "        if abs(f(a)) < tol:\n",
    "            return a\n",
    "        if abs(f(b)) < tol:\n",
    "            return b\n",
    "        \n",
    "        if b - a < tol:\n",
    "            return m\n",
    "        \n",
    "        if sign(f(a)) * sign(f(m)) > 0:\n",
    "            a = m\n",
    "        else:\n",
    "            b = m\n",
    "            \n",
    "        iter_count += 1\n",
    "        \n",
    "        if iter_count > 32:\n",
    "            return m\n",
    "    return m\n",
    "\n",
    "f = lambda x : 5**(1/3) - x\n",
    "# f = lambda x : 3*x\n",
    "print(bisection(-1,10,f, 10**-8))"
   ]
  },
  {
   "cell_type": "markdown",
   "metadata": {},
   "source": [
    "# Ejercicio 5: Método de Newton (150 000 créditos)\n",
    "En el lenguaje de programación de su preferencia, realice una implementación del método de\n",
    "Newton.\n",
    "- a) Asuma que el método recibe 3 argumentos, la función a la que se le quiere hallar el cero, la derivada de esa función, y el punto x0 . (50 000 créditos).\n",
    "- b) Asuma que el método recibe solo dos argumentos, la función a la que se le quiere hallar el cero y el punto $x _0$ . En este caso deberı́a aproximar la derivada por alguna de las vı́as vistas en las primeras CP. (50 000 créditos).\n",
    "- c) Use sus implementaciones para encontrar una aproximación de $\\sqrt[3]{5}$ que tenga 9 cifras significativas correctas. (50 000 créditos).\n"
   ]
  },
  {
   "cell_type": "code",
   "execution_count": 173,
   "metadata": {},
   "outputs": [
    {
     "name": "stdout",
     "output_type": "stream",
     "text": [
      "1.7099759466766962\n",
      "1.7099759466766968\n"
     ]
    }
   ],
   "source": [
    "# a)\n",
    "def Newton(f, df, x0):\n",
    "    e = 10**-8\n",
    "    delta = abs(0-f(x0))\n",
    "    \n",
    "    while delta > e:\n",
    "        x0 = x0 - f(x0)/df(x0)\n",
    "        delta = abs(0-f(x0))\n",
    "    return x0\n",
    "\n",
    "def aprox_derivada(f, x:float, h=10**-8):\n",
    "    return (f(x+h)-f(x))/h\n",
    "# b)\n",
    "def Newton_der_aprox(f, x0):\n",
    "    e = 10**-8\n",
    "    delta = abs(0-f(x0))\n",
    "    while delta > e:\n",
    "        fx = f(x0)\n",
    "        x0 = x0 - fx/aprox_derivada(f,x0)\n",
    "        delta = abs(0-fx)\n",
    "    return x0\n",
    "\n",
    "# c)\n",
    "f = lambda x: 5**(1/3)-x\n",
    "df = lambda x: -1\n",
    "print(Newton(f, df, 10))\n",
    "print(Newton_der_aprox(f,10))"
   ]
  },
  {
   "cell_type": "markdown",
   "metadata": {},
   "source": [
    "# Ejercicio 6: Método de la Secante (200 000 créditos)\n",
    "El método de la secante es una alternativa al método de Newton en el que no hay que calcular\n",
    "la derivada de la función, y esta se aproxima usando los dos últimos puntos generados por el\n",
    "algoritmo.\n",
    "- a) Describa brevemente la idea del método de la Secante (100 000 créditos).\n",
    "    ### Respuesta \n",
    "    Se conoce que, por definición\n",
    "    $$ f^{'}(p_{n-1}) = \\lim_{x\\to p_{n-1}} \\frac{f(x)-f(p_{n-1})}{x-p_{n-1}}$$\n",
    "    \n",
    "    Si $p_{x-2}$ está cerca de p_{n-1} entonces\n",
    "    $$f^{'}(p_{n-1}) \\approx \\frac{f(p_{n-2}) - f(p_{n-1})}{p_{n-2}-p_{n-1}} = \\frac{f(p_{n-1}) - f(p_{n-2})}{p_{n-1}-p_{n-2}}$$\n",
    "    \n",
    "    Usando esta aproximación para $f^{'}(p_{n-1})$ en la fórmula de Newton obtenemos:\n",
    "    $$ p_n = p_{n-1} - \\frac{f(p_{n-1})(p_{n-1}-p_{n-2)}}{f(p_{n-1})-f(p_{n-2})}$$\n",
    "    \n",
    "    Este procedimiento recibe el nombre de método de la secante\n",
    "    \n",
    "- b) En el lenguaje de programación de su preferencia, realice una implementación del método de la Secante. Asuma que el método recibe tres argumentos, la función a la que se le quiere hallar el cero y dos puntos iniciales $x_0$ , y $x_1$ . (50 000 créditos)\n",
    "\n",
    "- c) Use sus implementaciones para encontrar una aproximación de $sqrt[3]{5}$ que tenga 9 cifras significativas correctas. (50 000 créditos).\n"
   ]
  },
  {
   "cell_type": "code",
   "execution_count": 168,
   "metadata": {},
   "outputs": [
    {
     "data": {
      "text/plain": [
       "1.7099759466766968"
      ]
     },
     "execution_count": 168,
     "metadata": {},
     "output_type": "execute_result"
    }
   ],
   "source": [
    "# b)\n",
    "def Secante(f, pn_2, pn_1):\n",
    "    pn = pn_1-(pn_1*(pn_1-pn_2))/(f(pn_1)-f(pn_2))\n",
    "    \n",
    "    f1 = f(pn_1)\n",
    "    f2 = f(pn_2)\n",
    "    \n",
    "    while abs(f(pn)) > 10**-7:\n",
    "       \n",
    "        if f1 - f2 < 10**-8:\n",
    "            return pn_1\n",
    "        \n",
    "        pn = pn_1-(f1*(pn_1-pn_2))/(f1-f2)\n",
    "        \n",
    "        pn_2 = pn_1\n",
    "        pn_1 = pn\n",
    "        f2 = f1\n",
    "        f1 = f(pn)\n",
    "        iter_count += 1\n",
    "        if iter_count > 32:\n",
    "            return \n",
    "    return pn\n",
    "\n",
    "# c)\n",
    "Secante(lambda x:5**(1/3)-x, 10, 1.7)"
   ]
  },
  {
   "cell_type": "markdown",
   "metadata": {},
   "source": [
    "# Ejercicio 7: Demuestre Y Refute :-o. (300 000 créditos)\n",
    "A partir de sus conocimientos numéricos (y de algunas lecturas que haya realizado sobre los métodos\n",
    "de Newton y de la Secante, justifique las dos afirmaciones siguientes:\n",
    "- a) El método de la Secante es una mejora con respecto al método de Newton. (150 000 créditos)\n",
    "### Respuesta\n",
    "El método de la Secante es una mejora con respecto al método de Newton dado que no es necesario el cálculo de la derivada de la función, en cada iteración solo es necesario evaluar la función una vez.\n",
    "\n",
    "\n",
    "\n",
    "- b) El método de Newton es una mejora con respecto al método de la Secante (150 000 créditos)\n",
    "### Respuesta\n",
    "El Método de Newton es una mejora con respecto a la Secante porque, a pesar de ser más costoso, no necesita que se conozcan dos aproximaciones del punto a buscar, además de que converge ligeramente más rápido que la Secante"
   ]
  },
  {
   "cell_type": "code",
   "execution_count": null,
   "metadata": {},
   "outputs": [],
   "source": []
  }
 ],
 "metadata": {
  "kernelspec": {
   "display_name": "Python 3",
   "language": "python",
   "name": "python3"
  },
  "language_info": {
   "codemirror_mode": {
    "name": "ipython",
    "version": 3
   },
   "file_extension": ".py",
   "mimetype": "text/x-python",
   "name": "python",
   "nbconvert_exporter": "python",
   "pygments_lexer": "ipython3",
   "version": "3.7.4"
  }
 },
 "nbformat": 4,
 "nbformat_minor": 2
}
