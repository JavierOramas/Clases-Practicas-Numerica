{
 "cells": [
  {
   "cell_type": "markdown",
   "metadata": {},
   "source": [
    "# Tarea 1: Gotta identify them all\n",
    "- Matriz Diagonal\n",
    "- Matriz Triangular Superior\n",
    "- Matriz Triangular Inferior"
   ]
  },
  {
   "cell_type": "markdown",
   "metadata": {},
   "source": [
    "# Tarea 2: Donde resuelve una eficiente, resuelven 2, 3, ¡y hasta k (con k menor que n)!\n"
   ]
  },
  {
   "cell_type": "markdown",
   "metadata": {},
   "source": [
    "# Tarea 3: Método de Gauss + Profes de EDA = Implementación eficiente\n",
    "Para evitar el intercambio físico de las filas de la matriz, se puede detinar un array de tamaño n, que va a contener los índies de las filas\n",
    "de la matriz, en un inicio cada indice se encontraría en su posición inicial, y a medida que vaya siendo necesario hacer el cambio de filas,\n",
    "solamente es necesario cambiar los índices de las filas señaladas. Para acceder a la fila deseada de la matriz, basta con indexar en el valor\n",
    "que se encuentre en la posicion de la fila deseada en el array de índices"
   ]
  },
  {
   "cell_type": "markdown",
   "metadata": {},
   "source": [
    "# Tarea 4: ¡3, 1, y 2! Qué permutación más chévere. . .\n",
    "- a) Al realizar las permutaciones en la matriz ideintidad, y multiplicar ésta por otra matriz (A), se van a efectuar las mismas permutaciones en la matriz A, esto es, si se permutan las columnas 1 y 2 de la matriz ideintidad, el mismo cambio ocurrirá en la matriz resultante, o sea, el elemento en la posición i de la fila j en la matriz A se encontrará en la posición i' (donde i' es la pos en la q se encuentra el 1 en la fila i de P) de la matriz resultante de la multiplicación de P por A\n",
    "- b) En cada una de las posiciones de la fila, cada elemento [i,j] de la matriz a va a ser multiplicado por el elemento [j,i] de la matriz P, \n",
    "     recorriendo la j desde 0-n para cada i, pero de cada una de estas multiplicaciones en cada fila va a haber solo un elemento en el que \n",
    "     no se anula, en este caso, para cada ieste va a ser la posición j en la que se encuentra el 1, por tanto, se va a realizar \n",
    "     la permutación al multiplicarse A por P\n",
    "- c) Mediante una permutación de n, en el q el valor de cada posición es la columna que se ha permutado y se encuentra ahora allí\n",
    "- d) En este caso en vez de permutar las columnas de A, se permutan las filas de A\n",
    "- e) En este caso, se permutan las columnas\n",
    "- f) En la matriz ideintidad, permutar las filas o las columanas tiene el mismo efecto, permutar la fila i, con la fila j es equivalente a permutar la columna i con la columna j\n",
    "- g) Matriz de permutación"
   ]
  },
  {
   "cell_type": "markdown",
   "metadata": {},
   "source": [
    " # Ejercicio 1: A = L*U (3x3)\n",
    " - a) Encuentre una matriz L1 tal que:\n",
    "$$\n",
    "    L_{1} * A = U_{21} = \n",
    "    \\begin{bmatrix} \n",
    "         a_{11} & a_{12} & a_{13} \\\\\n",
    "         0 & \\overline{a_{22}} & \\overline{a_{23}} \\\\\n",
    "         a_{31} & a_{32} & a_{33}\n",
    "    \\end{bmatrix}  \n",
    "$$\n",
    "donde U21 es la matriz que se obtendr´ıa despu´es del primer paso del m´etodo\n",
    "de Gauss.\n",
    "\n",
    "### Respuesta\n",
    "$$ \n",
    "l_1 =\\frac{a_{21}}{a_{11}}\\\\ \n",
    "L_1 = \n",
    "\\begin{bmatrix} \n",
    "    1 & 0 & 0 \\\\\n",
    "    -\\frac{a_{21}}{a_{11}} & 1 & 0 \\\\\n",
    "    0 & 0 & 1\n",
    "\\end{bmatrix}\n",
    "$$"
   ]
  },
  {
   "cell_type": "code",
   "execution_count": 1,
   "metadata": {},
   "outputs": [
    {
     "data": {
      "text/plain": [
       "array([[ 1,  2,  3],\n",
       "       [ 0, -3, -6],\n",
       "       [ 7,  8,  9]])"
      ]
     },
     "execution_count": 1,
     "metadata": {},
     "output_type": "execute_result"
    }
   ],
   "source": [
    "import numpy as np\n",
    "A = np.array([[1,2,3],[4,5,6],[7,8,9]]) \n",
    "L = np.array([[1,0,0],[-4,1,0],[0,0,1]])\n",
    "L@A"
   ]
  },
  {
   "cell_type": "markdown",
   "metadata": {},
   "source": [
    "- b) Encuentre una matriz L2 tal que:\n",
    "$$\n",
    "    L_{2} * A = U_{31} = \n",
    "    \\begin{bmatrix} \n",
    "         a_{11} & a_{12} & a_{13} \\\\\n",
    "         a_{21} & a_{22} & a_{23} \\\\\n",
    "         0 & \\overline{a_{32}}& \\overline{a_{33}}\n",
    "    \\end{bmatrix}  \n",
    "$$\n",
    "donde $U_{31}$ es la matriz que se obtendría al aplicar un paso del método de\n",
    "Gauss para, usando el elemento $a_{11}$ como pivote, obtener 0 en la posición\n",
    "(3,1).\n",
    "\n",
    "### Respuesta\n",
    "$$ \n",
    "l_2 = \\frac{a_{31}}{a_{11}}\\\\\n",
    "L_2 = \n",
    "\\begin{bmatrix} \n",
    "    1 & 0 & 0 \\\\\n",
    "    0 & 1 & 0 \\\\\n",
    "    -\\frac{a_{31}}{a_{11}} & 0 & 1\n",
    "\\end{bmatrix}\n",
    "$$"
   ]
  },
  {
   "cell_type": "code",
   "execution_count": 2,
   "metadata": {},
   "outputs": [
    {
     "data": {
      "text/plain": [
       "array([[  1,   2,   3],\n",
       "       [  4,   5,   6],\n",
       "       [  0,  -6, -12]])"
      ]
     },
     "execution_count": 2,
     "metadata": {},
     "output_type": "execute_result"
    }
   ],
   "source": [
    "A = np.array([[1,2,3],[4,5,6],[7,8,9]]) \n",
    "L = np.array([[1,0,0],[0,1,0],[-7,0,1]])\n",
    "L@A"
   ]
  },
  {
   "cell_type": "markdown",
   "metadata": {},
   "source": [
    "c) A partir de realizar operaciones matriciales con L1 y L2, obtenga una matriz\n",
    "C1, tal que:\n",
    "\n",
    "$$\n",
    "    C_{1} * A = U_{1} = \n",
    "    \\begin{bmatrix} \n",
    "         a_{11} & a_{12} & a_{13} \\\\\n",
    "         0 & \\overline{a_{22}} & \\overline{a_{23}} \\\\\n",
    "         0 & \\overline{a_{32}}& \\overline{a_{33}}\n",
    "    \\end{bmatrix}  \n",
    "$$\n",
    "\n",
    "donde $U_1$ es la matriz que se obtendría después de los dos primeros pasos del\n",
    "método de Gauss.\n",
    "\n",
    "### Respuesta\n",
    "$$ \n",
    "C_1 = \n",
    "\\begin{bmatrix} \n",
    "    1 & 0 & 0 \\\\\n",
    "    -\\frac{a_{21}}{a_{11}} & 1 & 0 \\\\\n",
    "    -\\frac{a_{31}}{a_{11}} & 0 & 1\n",
    "\\end{bmatrix}\n",
    "$$"
   ]
  },
  {
   "cell_type": "code",
   "execution_count": 3,
   "metadata": {},
   "outputs": [
    {
     "data": {
      "text/plain": [
       "array([[  1,   2,   3],\n",
       "       [  0,  -3,  -6],\n",
       "       [  0,  -6, -12]])"
      ]
     },
     "execution_count": 3,
     "metadata": {},
     "output_type": "execute_result"
    }
   ],
   "source": [
    "A = np.array([[1,2,3],[4,5,6],[7,8,9]]) \n",
    "L = np.array([[1,0,0],[-4,1,0],[-7,0,1]])\n",
    "L@A"
   ]
  },
  {
   "cell_type": "markdown",
   "metadata": {},
   "source": [
    "- d) Encuentre una matriz $L_3$ tal que:\n",
    "$$\n",
    "    L_{3} * A = U_{32} = \n",
    "    \\begin{bmatrix} \n",
    "         a_{11} & a_{12} & a_{13} \\\\\n",
    "         0 & \\overline{a_{22}} & \\overline{a_{23}} \\\\\n",
    "         0 & 0 & \\overline{\\overline{a_{33}}}\n",
    "    \\end{bmatrix}  \n",
    "$$\n",
    "En este caso, la matriz $U_{32}$ debe ser la misma matriz que se obtendría después\n",
    "de aplicar los tres pasos del método de Gauss.\n",
    "Fíjate en el detalle que al multiplicar $L_3 ∗U_1$ no se puede modificar el cero en\n",
    "la posición (3,1) ni los elementos en las dos primeras filas\n",
    "\n",
    "### Respuesta \n",
    "\n",
    "\n",
    "$$ \n",
    "l_3 = \\frac{\\overline{a_{32}}}{\\overline{a_{22}}}\n",
    "\\\\\n",
    "L_3 = \n",
    "\\begin{bmatrix} \n",
    "    1 & 0 & 0 \\\\\n",
    "    0 & 1 & 0 \\\\\n",
    "    0 & -\\frac{\\overline{a_{32}}}{\\overline{a_{22}}} & 1\n",
    "\\end{bmatrix}\n",
    "$$\n"
   ]
  },
  {
   "cell_type": "code",
   "execution_count": 6,
   "metadata": {},
   "outputs": [
    {
     "data": {
      "text/plain": [
       "array([[ 1,  2,  3],\n",
       "       [ 0, -3, -6],\n",
       "       [ 0,  0,  0]])"
      ]
     },
     "execution_count": 6,
     "metadata": {},
     "output_type": "execute_result"
    }
   ],
   "source": [
    "A = np.array([[1,2,3],[4,5,6],[7,8,9]]) \n",
    "L = np.array([[1,0,0],[-4,1,0],[-7,0,1]])\n",
    "L2 = np.array([[1,0,0],[0,1,0],[0,-2,1]])\n",
    "A_2 = L@A\n",
    "L2@A_2 "
   ]
  },
  {
   "cell_type": "markdown",
   "metadata": {},
   "source": [
    "- e) A partir de realizar operaciones matriciales con $L_1$, $L_2$ y $L_3$, obtenga una\n",
    "    matriz $C_{12}$, tal que:\n",
    "    $$\n",
    "    C_{12} * A = U_{32} = \n",
    "    \\begin{bmatrix} \n",
    "         a_{11} & a_{12} & a_{13} \\\\\n",
    "         0 & \\overline{a_{22}} & \\overline{a_{23}} \\\\\n",
    "         0 & 0 & \\overline{\\overline{a_{33}}}\n",
    "    \\end{bmatrix}  \n",
    "    $$\n",
    "### Respuesta\n",
    "$$\n",
    "C_{12} * A = L_3*(L_1*L_2)*A =\n",
    "    \\begin{bmatrix} \n",
    "         a_{11} & a_{12} & a_{13} \\\\\n",
    "         0 & \\overline{a_{22}} & \\overline{a_{23}} \\\\\n",
    "         0 & 0 & \\overline{\\overline{a_{33}}}\n",
    "    \\end{bmatrix}  \n",
    "    $$\n",
    "    $$C_{12} = L_3*(L_1*L_2) $$"
   ]
  },
  {
   "cell_type": "code",
   "execution_count": 8,
   "metadata": {},
   "outputs": [
    {
     "data": {
      "text/plain": [
       "array([[ 1,  2,  3],\n",
       "       [ 0, -3, -6],\n",
       "       [ 0,  0,  0]])"
      ]
     },
     "execution_count": 8,
     "metadata": {},
     "output_type": "execute_result"
    }
   ],
   "source": [
    "A = np.array([[1,2,3],[4,5,6],[7,8,9]]) \n",
    "L = np.array([[1,0,0],[-4,1,0],[0,0,1]])\n",
    "L2 = np.array([[1,0,0],[0,1,0],[-7,0,1]])\n",
    "L3 = np.array([[1,0,0],[0,1,0],[0,-2,1]])\n",
    "L3@(L@L2)@A"
   ]
  },
  {
   "cell_type": "markdown",
   "metadata": {},
   "source": [
    "# Demuestre que la matriz $C_{12}$ tiene determinante 1, y por lo tanto es inversible.\n",
    "Esa demostración es muy sencilla: solo tienes que darte cuenta que las matrices $L_1$, $L_2$ y $L_3$ tienen todas determinante 1.\n",
    "### Respuesta\n",
    "Las Matrices:\n",
    "$$\n",
    "L_1 = \\left|\n",
    "\\begin{bmatrix} \n",
    "    1 & 0 & 0 \\\\\n",
    "    -\\frac{a_{21}}{a_{11}} & 1 & 0 \\\\\n",
    "    0 & 0 & 1\n",
    "\\end{bmatrix}\\right| = 1 - 0 = 1\\\\\n",
    "L_2 = \\left|\n",
    "\\begin{bmatrix} \n",
    "    1 & 0 & 0 \\\\\n",
    "    0 & 1 & 0 \\\\\n",
    "    -\\frac{a_{31}}{a_{11}} & 0 & 1\n",
    "\\end{bmatrix}\\right| = 1-0 = 1\\\\\n",
    "L_3 = \n",
    "\\left|\n",
    "\\begin{bmatrix} \n",
    "    1 & 0 & 0 \\\\\n",
    "    0 & 1 & 0 \\\\\n",
    "    0 & -\\frac{\\overline{a_{32}}}{\\overline{a_{22}}} & 1\n",
    "\\end{bmatrix}\\right| = 1-0 = 1\n",
    "$$\n",
    "\n",
    "todas tienen determinante 1, por las propiedades de los determinantes |A*B| = |A| * |B|\n",
    "por tanto $|L_3*(L_1 * L_2)| = 1$ luego $|C_{12}| = 1$"
   ]
  },
  {
   "cell_type": "markdown",
   "metadata": {},
   "source": [
    "- g) Demuestre que el producto de matrices triangulares inferiores es una matriz\n",
    "    triangular inferior.\n",
    "    ### Respuesta\n",
    "    Sean $A = (a_{ir}) $ y $B = (a_{sj})$ dos matrices triangulares inferirores, demostremos que $C=AB$ es Triangular inferior\n",
    "    \n",
    "    Si i < r, $a_{ir}$ = 0, luego:\n",
    "    $$ C_{ij} =  a_{i1}b_{1j} + 1/4"
   ]
  },
  {
   "cell_type": "code",
   "execution_count": 5,
   "metadata": {},
   "outputs": [
    {
     "data": {
      "text/plain": [
       "array([[1, 0, 0],\n",
       "       [4, 1, 0],\n",
       "       [7, 2, 1]])"
      ]
     },
     "execution_count": 5,
     "metadata": {},
     "output_type": "execute_result"
    }
   ],
   "source": [
    "# L\n",
    "A = np.array([[1,2,3],[4,5,6],[7,8,9]]) \n",
    "L = np.array([[1,0,0],[4,1,0],[0,0,1]])\n",
    "L2 = np.array([[1,0,0],[0,1,0],[7,0,1]])\n",
    "L3 = np.array([[1,0,0],[0,1,0],[0,2,1]])\n",
    "L@L2@L3"
   ]
  },
  {
   "cell_type": "markdown",
   "metadata": {},
   "source": [
    "$$\n",
    "L_3 = \n",
    "\\begin{bmatrix} \n",
    "    1 & 0 & 0 \\\\\n",
    "    -\\frac{a_{21}}{a_{11}} & 1 & 0 \\\\\n",
    "    -\\frac{a_{31}}{a_{11}} & -\\frac{\\overline{a_{32}}}{\\overline{a_{22}}} & 1\n",
    "\\end{bmatrix}\n",
    "$$"
   ]
  }
 ],
 "metadata": {
  "kernelspec": {
   "display_name": "Python 3",
   "language": "python",
   "name": "python3"
  },
  "language_info": {
   "codemirror_mode": {
    "name": "ipython",
    "version": 3
   },
   "file_extension": ".py",
   "mimetype": "text/x-python",
   "name": "python",
   "nbconvert_exporter": "python",
   "pygments_lexer": "ipython3",
   "version": "3.7.4"
  }
 },
 "nbformat": 4,
 "nbformat_minor": 2
}
