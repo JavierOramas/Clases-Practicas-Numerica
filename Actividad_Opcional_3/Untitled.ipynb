{
 "cells": [
  {
   "cell_type": "markdown",
   "metadata": {},
   "source": [
    "# Tarea 1: Gotta identify them all\n",
    "- Matriz Diagonal\n",
    "- Matriz Triangular Superior\n",
    "- Matriz Triangular Inferior"
   ]
  },
  {
   "cell_type": "markdown",
   "metadata": {},
   "source": [
    "# Tarea 2: Donde resuelve una eficiente, resuelven 2, 3, ¡y hasta k (con k menor que n)!\n"
   ]
  },
  {
   "cell_type": "markdown",
   "metadata": {},
   "source": [
    "# Tarea 3: Método de Gauss + Profes de EDA = Implementación eficiente\n",
    "Para evitar el intercambio físico de las filas de la matriz, se puede detinar un array de tamaño n, que va a contener los índies de las filas\n",
    "de la matriz, en un inicio cada indice se encontraría en su posición inicial, y a medida que vaya siendo necesario hacer el cambio de filas,\n",
    "solamente es necesario cambiar los índices de las filas señaladas. Para acceder a la fila deseada de la matriz, basta con indexar en el valor\n",
    "que se encuentre en la posicion de la fila deseada en el array de índices"
   ]
  },
  {
   "cell_type": "markdown",
   "metadata": {},
   "source": [
    "# Tarea 4: ¡3, 1, y 2! Qué permutación más chévere. . .\n",
    "- a) Al realizar las permutaciones en la matriz ideintidad, y multiplicar ésta por otra matriz (A), se van a efectuar las mismas permutaciones en la matriz A, esto es, si se permutan las columnas 1 y 2 de la matriz ideintidad, el mismo cambio ocurrirá en la matriz resultante, o sea, el elemento en la posición i de la fila j en la matriz A se encontrará en la posición i' (donde i' es la pos en la q se encuentra el 1 en la fila i de P) de la matriz resultante de la multiplicación de P por A\n",
    "- b) En cada una de las posiciones de la fila, cada elemento [i,j] de la matriz a va a ser multiplicado por el elemento [j,i] de la matriz P, \n",
    "     recorriendo la j desde 0-n para cada i, pero de cada una de estas multiplicaciones en cada fila va a haber solo un elemento en el que \n",
    "     no se anula, en este caso, para cada ieste va a ser la posición j en la que se encuentra el 1, por tanto, se va a realizar \n",
    "     la permutación al multiplicarse A por P\n",
    "- c) Mediante una permutación de n, en el q el valor de cada posición es la columna que se ha permutado y se encuentra ahora allí\n",
    "- d) En este caso en vez de permutar las columnas de A, se permutan las filas de A\n",
    "- e) En este caso, se permutan las columnas\n",
    "- f) En la matriz ideintidad, permutar las filas o las columanas tiene el mismo efecto, permutar la fila i, con la fila j es equivalente a permutar la columna i con la columna j\n",
    "- g) Matriz de permutación, matriz de Trabajo?"
   ]
  },
  {
   "cell_type": "code",
   "execution_count": 15,
   "metadata": {},
   "outputs": [
    {
     "data": {
      "text/plain": [
       "array([[1, 2, 3],\n",
       "       [4, 5, 6],\n",
       "       [7, 8, 9]])"
      ]
     },
     "execution_count": 15,
     "metadata": {},
     "output_type": "execute_result"
    }
   ],
   "source": [
    "import numpy as np\n",
    "a = np.array([[1,2,3],[4,5,6],[7,8,9]]) \n",
    "P = np.array([[0,0,1],[0,1,0],[1,0,0]]) \n",
    "P2 = np.array([[0,0,1],[0,1,0],[1,0,0]]) \n",
    "a"
   ]
  },
  {
   "cell_type": "code",
   "execution_count": 29,
   "metadata": {},
   "outputs": [
    {
     "data": {
      "text/plain": [
       "array([[ 1,  2,  3],\n",
       "       [ 4, 13, 18],\n",
       "       [ 7, 54, 78]])"
      ]
     },
     "execution_count": 29,
     "metadata": {},
     "output_type": "execute_result"
    }
   ],
   "source": [
    "U = np.array([[1,2,3],[0,5,6],[0,0,9]]) \n",
    "L = np.array([[1,0,0],[4,1,0],[7,8,1]])\n",
    "L@U"
   ]
  },
  {
   "cell_type": "code",
   "execution_count": 30,
   "metadata": {},
   "outputs": [
    {
     "data": {
      "text/plain": [
       "array([[1, 2, 3],\n",
       "       [0, 5, 6],\n",
       "       [0, 0, 9]])"
      ]
     },
     "execution_count": 30,
     "metadata": {},
     "output_type": "execute_result"
    }
   ],
   "source": [
    "U"
   ]
  }
 ],
 "metadata": {
  "kernelspec": {
   "display_name": "Python 3",
   "language": "python",
   "name": "python3"
  },
  "language_info": {
   "codemirror_mode": {
    "name": "ipython",
    "version": 3
   },
   "file_extension": ".py",
   "mimetype": "text/x-python",
   "name": "python",
   "nbconvert_exporter": "python",
   "pygments_lexer": "ipython3",
   "version": "3.7.4"
  }
 },
 "nbformat": 4,
 "nbformat_minor": 2
}
