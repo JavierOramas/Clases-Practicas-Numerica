{
 "cells": [
  {
   "cell_type": "markdown",
   "metadata": {},
   "source": [
    "# DIA 1"
   ]
  },
  {
   "cell_type": "markdown",
   "metadata": {},
   "source": [
    "# Tarea 1: Gotta identify them all\n",
    "- Matriz Diagonal\n",
    "- Matriz Triangular Superior\n",
    "- Matriz Triangular Inferior\n",
    "- matriz Ortogonal"
   ]
  },
  {
   "cell_type": "markdown",
   "metadata": {},
   "source": [
    "# Tarea 2: Donde resuelve una eficiente, resuelven 2, 3, ¡y hasta k (con k menor que n)!\n"
   ]
  },
  {
   "cell_type": "markdown",
   "metadata": {},
   "source": [
    "# Tarea 3: Método de Gauss + Profes de EDA = Implementación eficiente\n",
    "Para evitar el intercambio físico de las filas de la matriz, se puede detinar un array de tamaño n, que va a contener los índies de las filas\n",
    "de la matriz, en un inicio cada indice se encontraría en su posición inicial, y a medida que vaya siendo necesario hacer el cambio de filas,\n",
    "solamente es necesario cambiar los índices de las filas señaladas. Para acceder a la fila deseada de la matriz, basta con indexar en el valor\n",
    "que se encuentre en la posicion de la fila deseada en el array de índices"
   ]
  },
  {
   "cell_type": "markdown",
   "metadata": {},
   "source": [
    "# Tarea 4: ¡3, 1, y 2! Qué permutación más chévere. . .\n",
    "- a) Al realizar las permutaciones en la matriz ideintidad, y multiplicar ésta por otra matriz (A), se van a efectuar las mismas permutaciones en la matriz A, esto es, si se permutan las columnas 1 y 2 de la matriz ideintidad, el mismo cambio ocurrirá en la matriz resultante, o sea, el elemento en la posición i de la fila j en la matriz A se encontrará en la posición i' (donde i' es la pos en la q se encuentra el 1 en la fila i de P) de la matriz resultante de la multiplicación de P por A\n",
    "- b) En cada una de las posiciones de la fila, cada elemento [i,j] de la matriz a va a ser multiplicado por el elemento [j,i] de la matriz P, \n",
    "     recorriendo la j desde 0-n para cada i, pero de cada una de estas multiplicaciones en cada fila va a haber solo un elemento en el que \n",
    "     no se anula, en este caso, para cada ieste va a ser la posición j en la que se encuentra el 1, por tanto, se va a realizar \n",
    "     la permutación al multiplicarse A por P\n",
    "- c) Mediante una permutación de n, en el q el valor de cada posición es la columna que se ha permutado y se encuentra ahora allí\n",
    "- d) En este caso en vez de permutar las columnas de A, se permutan las filas de A\n",
    "- e) En este caso, se permutan las columnas\n",
    "- f) En la matriz ideintidad, permutar las filas o las columanas tiene el mismo efecto, permutar la fila i, con la fila j es equivalente a permutar la columna i con la columna j\n",
    "- g) Matriz de permutación"
   ]
  },
  {
   "cell_type": "markdown",
   "metadata": {},
   "source": [
    "# DIA 2"
   ]
  },
  {
   "cell_type": "markdown",
   "metadata": {},
   "source": [
    " # Ejercicio 1: A = L*U (3x3)\n",
    " - a) Encuentre una matriz L1 tal que:\n",
    "$$\n",
    "    L_{1} * A = U_{21} = \n",
    "    \\begin{bmatrix} \n",
    "         a_{11} & a_{12} & a_{13} \\\\\n",
    "         0 & \\overline{a_{22}} & \\overline{a_{23}} \\\\\n",
    "         a_{31} & a_{32} & a_{33}\n",
    "    \\end{bmatrix}  \n",
    "$$\n",
    "donde $U_{21} es la matriz que se obtendría después del primer paso del método\n",
    "de Gauss.\n",
    "\n",
    "### Respuesta\n",
    "$$ \n",
    "l_1 =\\frac{a_{21}}{a_{11}}\\\\ \n",
    "L_1 = \n",
    "\\begin{bmatrix} \n",
    "    1 & 0 & 0 \\\\\n",
    "    -\\frac{a_{21}}{a_{11}} & 1 & 0 \\\\\n",
    "    0 & 0 & 1\n",
    "\\end{bmatrix}\n",
    "$$"
   ]
  },
  {
   "cell_type": "code",
   "execution_count": 1,
   "metadata": {},
   "outputs": [
    {
     "data": {
      "text/plain": [
       "array([[ 1,  2,  3],\n",
       "       [ 0, -3, -6],\n",
       "       [ 7,  8,  9]])"
      ]
     },
     "execution_count": 1,
     "metadata": {},
     "output_type": "execute_result"
    }
   ],
   "source": [
    "import numpy as np\n",
    "A = np.array([[1,2,3],[4,5,6],[7,8,9]]) \n",
    "L = np.array([[1,0,0],[-4,1,0],[0,0,1]])\n",
    "L@A"
   ]
  },
  {
   "cell_type": "markdown",
   "metadata": {},
   "source": [
    "- b) Encuentre una matriz L2 tal que:\n",
    "$$\n",
    "    L_{2} * A = U_{31} = \n",
    "    \\begin{bmatrix} \n",
    "         a_{11} & a_{12} & a_{13} \\\\\n",
    "         a_{21} & a_{22} & a_{23} \\\\\n",
    "         0 & \\overline{a_{32}}& \\overline{a_{33}}\n",
    "    \\end{bmatrix}  \n",
    "$$\n",
    "donde $U_{31}$ es la matriz que se obtendría al aplicar un paso del método de\n",
    "Gauss para, usando el elemento $a_{11}$ como pivote, obtener 0 en la posición\n",
    "(3,1).\n",
    "\n",
    "### Respuesta\n",
    "$$ \n",
    "l_2 = \\frac{a_{31}}{a_{11}}\\\\\n",
    "L_2 = \n",
    "\\begin{bmatrix} \n",
    "    1 & 0 & 0 \\\\\n",
    "    0 & 1 & 0 \\\\\n",
    "    -\\frac{a_{31}}{a_{11}} & 0 & 1\n",
    "\\end{bmatrix}\n",
    "$$"
   ]
  },
  {
   "cell_type": "code",
   "execution_count": 2,
   "metadata": {},
   "outputs": [
    {
     "data": {
      "text/plain": [
       "array([[  1,   2,   3],\n",
       "       [  4,   5,   6],\n",
       "       [  0,  -6, -12]])"
      ]
     },
     "execution_count": 2,
     "metadata": {},
     "output_type": "execute_result"
    }
   ],
   "source": [
    "A = np.array([[1,2,3],[4,5,6],[7,8,9]]) \n",
    "L = np.array([[1,0,0],[0,1,0],[-7,0,1]])\n",
    "L@A"
   ]
  },
  {
   "cell_type": "markdown",
   "metadata": {},
   "source": [
    "c) A partir de realizar operaciones matriciales con L1 y L2, obtenga una matriz\n",
    "C1, tal que:\n",
    "\n",
    "$$\n",
    "    C_{1} * A = U_{1} = \n",
    "    \\begin{bmatrix} \n",
    "         a_{11} & a_{12} & a_{13} \\\\\n",
    "         0 & \\overline{a_{22}} & \\overline{a_{23}} \\\\\n",
    "         0 & \\overline{a_{32}}& \\overline{a_{33}}\n",
    "    \\end{bmatrix}  \n",
    "$$\n",
    "\n",
    "donde $U_1$ es la matriz que se obtendría después de los dos primeros pasos del\n",
    "método de Gauss.\n",
    "\n",
    "### Respuesta\n",
    "$$ \n",
    "C_1 = \n",
    "\\begin{bmatrix} \n",
    "    1 & 0 & 0 \\\\\n",
    "    -\\frac{a_{21}}{a_{11}} & 1 & 0 \\\\\n",
    "    -\\frac{a_{31}}{a_{11}} & 0 & 1\n",
    "\\end{bmatrix}\n",
    "$$"
   ]
  },
  {
   "cell_type": "code",
   "execution_count": 3,
   "metadata": {},
   "outputs": [
    {
     "data": {
      "text/plain": [
       "array([[  1,   2,   3],\n",
       "       [  0,  -3,  -6],\n",
       "       [  0,  -6, -12]])"
      ]
     },
     "execution_count": 3,
     "metadata": {},
     "output_type": "execute_result"
    }
   ],
   "source": [
    "A = np.array([[1,2,3],[4,5,6],[7,8,9]]) \n",
    "L = np.array([[1,0,0],[-4,1,0],[-7,0,1]])\n",
    "L@A"
   ]
  },
  {
   "cell_type": "markdown",
   "metadata": {},
   "source": [
    "- d) Encuentre una matriz $L_3$ tal que:\n",
    "$$\n",
    "    L_{3} * A = U_{32} = \n",
    "    \\begin{bmatrix} \n",
    "         a_{11} & a_{12} & a_{13} \\\\\n",
    "         0 & \\overline{a_{22}} & \\overline{a_{23}} \\\\\n",
    "         0 & 0 & \\overline{\\overline{a_{33}}}\n",
    "    \\end{bmatrix}  \n",
    "$$\n",
    "En este caso, la matriz $U_{32}$ debe ser la misma matriz que se obtendría después\n",
    "de aplicar los tres pasos del método de Gauss.\n",
    "Fíjate en el detalle que al multiplicar $L_3 ∗U_1$ no se puede modificar el cero en\n",
    "la posición (3,1) ni los elementos en las dos primeras filas\n",
    "\n",
    "### Respuesta \n",
    "\n",
    "\n",
    "$$ \n",
    "l_3 = \\frac{\\overline{a_{32}}}{\\overline{a_{22}}}\n",
    "\\\\\n",
    "L_3 = \n",
    "\\begin{bmatrix} \n",
    "    1 & 0 & 0 \\\\\n",
    "    0 & 1 & 0 \\\\\n",
    "    0 & -\\frac{\\overline{a_{32}}}{\\overline{a_{22}}} & 1\n",
    "\\end{bmatrix}\n",
    "$$\n"
   ]
  },
  {
   "cell_type": "code",
   "execution_count": 6,
   "metadata": {},
   "outputs": [
    {
     "data": {
      "text/plain": [
       "array([[ 1,  2,  3],\n",
       "       [ 0, -3, -6],\n",
       "       [ 0,  0,  0]])"
      ]
     },
     "execution_count": 6,
     "metadata": {},
     "output_type": "execute_result"
    }
   ],
   "source": [
    "A = np.array([[1,2,3],[4,5,6],[7,8,9]]) \n",
    "L = np.array([[1,0,0],[-4,1,0],[-7,0,1]])\n",
    "L2 = np.array([[1,0,0],[0,1,0],[0,-2,1]])\n",
    "A_2 = L@A\n",
    "L2@A_2 "
   ]
  },
  {
   "cell_type": "markdown",
   "metadata": {},
   "source": [
    "- e) A partir de realizar operaciones matriciales con $L_1$, $L_2$ y $L_3$, obtenga una\n",
    "    matriz $C_{12}$, tal que:\n",
    "    $$\n",
    "    C_{12} * A = U_{32} = \n",
    "    \\begin{bmatrix} \n",
    "         a_{11} & a_{12} & a_{13} \\\\\n",
    "         0 & \\overline{a_{22}} & \\overline{a_{23}} \\\\\n",
    "         0 & 0 & \\overline{\\overline{a_{33}}}\n",
    "    \\end{bmatrix}  \n",
    "    $$\n",
    "### Respuesta\n",
    "$$\n",
    "C_{12} * A = L_3*(L_1*L_2)*A =\n",
    "    \\begin{bmatrix} \n",
    "         a_{11} & a_{12} & a_{13} \\\\\n",
    "         0 & \\overline{a_{22}} & \\overline{a_{23}} \\\\\n",
    "         0 & 0 & \\overline{\\overline{a_{33}}}\n",
    "    \\end{bmatrix}  \n",
    "    $$\n",
    "    $$C_{12} = L_3*(L_1*L_2) $$"
   ]
  },
  {
   "cell_type": "code",
   "execution_count": 8,
   "metadata": {},
   "outputs": [
    {
     "data": {
      "text/plain": [
       "array([[ 1,  2,  3],\n",
       "       [ 0, -3, -6],\n",
       "       [ 0,  0,  0]])"
      ]
     },
     "execution_count": 8,
     "metadata": {},
     "output_type": "execute_result"
    }
   ],
   "source": [
    "A = np.array([[1,2,3],[4,5,6],[7,8,9]]) \n",
    "L = np.array([[1,0,0],[-4,1,0],[0,0,1]])\n",
    "L2 = np.array([[1,0,0],[0,1,0],[-7,0,1]])\n",
    "L3 = np.array([[1,0,0],[0,1,0],[0,-2,1]])\n",
    "L3@(L@L2)@A"
   ]
  },
  {
   "cell_type": "markdown",
   "metadata": {},
   "source": [
    "- f) Demuestre que la matriz $C_{12}$ tiene determinante 1, y por lo tanto es inversible.\n",
    "Esa demostración es muy sencilla: solo tienes que darte cuenta que las matrices $L_1$, $L_2$ y $L_3$ tienen todas determinante 1.\n",
    "### Respuesta\n",
    "Las Matrices:\n",
    "$$\n",
    "L_1 = \\left|\n",
    "\\begin{bmatrix} \n",
    "    1 & 0 & 0 \\\\\n",
    "    -\\frac{a_{21}}{a_{11}} & 1 & 0 \\\\\n",
    "    0 & 0 & 1\n",
    "\\end{bmatrix}\\right| = 1 - 0 = 1\\\\\n",
    "L_2 = \\left|\n",
    "\\begin{bmatrix} \n",
    "    1 & 0 & 0 \\\\\n",
    "    0 & 1 & 0 \\\\\n",
    "    -\\frac{a_{31}}{a_{11}} & 0 & 1\n",
    "\\end{bmatrix}\\right| = 1-0 = 1\\\\\n",
    "L_3 = \n",
    "\\left|\n",
    "\\begin{bmatrix} \n",
    "    1 & 0 & 0 \\\\\n",
    "    0 & 1 & 0 \\\\\n",
    "    0 & -\\frac{\\overline{a_{32}}}{\\overline{a_{22}}} & 1\n",
    "\\end{bmatrix}\\right| = 1-0 = 1\n",
    "$$\n",
    "\n",
    "todas tienen determinante 1, por las propiedades de los determinantes |A*B| = |A| * |B|\n",
    "por tanto $|L_3*(L_1 * L_2)| = 1$ luego $|C_{12}| = 1$"
   ]
  },
  {
   "cell_type": "markdown",
   "metadata": {},
   "source": [
    "- g) Demuestre que el producto de matrices triangulares inferiores es una matriz\n",
    "    triangular inferior.\n",
    "    ### Respuesta\n",
    "    Sean $A = (a_{ir}) $ y $B = (a_{sj})$ dos matrices triangulares inferirores, demostremos que $C=AB$ es Triangular inferior\n",
    "    \n",
    "    Como son trinagulares inferiores:\n",
    "    $A_{ij} = 0  y B_{ij} = 0 $ si $ i < j $\n",
    "    \n",
    "    Definamos $ C = AB $\n",
    "    $$ C_{ij} = \\sum_{k=1}^{n} A_{ik}B_{kj} $$\n",
    "    \n",
    "    Ahora, supongamos que $i < j$, demostremos que $C_{ij} = 0$\n",
    "    Consideremos un cierto valor de $i \\leq k \\leq n$ y veamos que el sumando $A_{ik}B_{kj}$ es nulo:\n",
    "    \n",
    "    - si $i < j \\leq k$ entonces $A_{ik} = 0$ \n",
    "    - si $i \\leq j < k$ entonces $B_{kj} = 0$\n",
    "    - si $i < j < k$ entonces $B_{kj} = 0$\n",
    "    \n",
    "    Luego, para cualquier valor de k, si $i < j$, $C_{ij} = 0$"
   ]
  },
  {
   "cell_type": "markdown",
   "metadata": {},
   "source": [
    "- h) Demuestre que la matriz $C_{12}$ es triangular inferior.\n",
    "### Respuesta\n",
    "    Las matrices $L_1$, $L_2$ y $L_3$ son triangulares inferiores, y $ C_{12} = L_3*(L_1*L_2)$\n",
    "\n",
    "    $C_1 = L_1 * L_2$ es matriz triangular inferior por la propiedad demostrada en el inciso anterior\n",
    "\n",
    "    $L_3 * C_1 = C_{12}$ y además es una matriz triangular inferior por la popiedad demostrada en el inciso anterior"
   ]
  },
  {
   "cell_type": "markdown",
   "metadata": {},
   "source": [
    "- i) Demuestre que la inversa de una matriz triangular inferior es una matriz triangular inferior.\n",
    "    ### Respuesta \n",
    "    Sea A una matriz truangular inferior\n",
    "    \n",
    "    Como A es una matriz triangular inferior, $A^{t}$ es una matriz tringular superior\n",
    "    \n",
    "    luego, $(A^{t})^{-1} = (A^{-1})^{t}$ luego $ A^{-1}$ es triangular inferior"
   ]
  },
  {
   "cell_type": "markdown",
   "metadata": {},
   "source": [
    "- j) Demuestre que si una matriz C es triangular inferior y tiene 1 en la diagonal, entonces la la inversa de C también tiene unos en la diagonal.\n",
    "### Respuesta\n",
    "\n",
    "Sea C una matriz triangular inferior con 1 en la diagonal \n",
    "\n",
    "$ C = \\begin{bmatrix}\n",
    " 1 & \\dots & 0 & 0 & 0\\\\\n",
    " c_{21} & 1 & \\dots & 0 \\\\\n",
    " \\dots&\\dots&1& \\dots& 0 \\\\\n",
    " \\dots&\\dots&\\dots&\\dots& 0 \\\\\n",
    " c_{n1} &\\dots&\\dots&a_{n,n-1} & 1 \\\\\n",
    " \\end{bmatrix} $\n",
    " Utilizando el método de Gauus para hallar la inversa , se tiene que $ \\\\ $\n",
    " $ C^{-1}  = \\begin{bmatrix}\n",
    " 1 & 0 \\dots & 0 & 0 & 0\\\\\n",
    " -c_{21} & - c_{22} & \\dots & 0 \\\\\n",
    " -c_{31}&-c_{32}&1& \\dots& 0 \\\\\n",
    " \\dots&\\dots&\\dots&\\dots& 0 \\\\\n",
    " -c_{n1} &\\dots&\\dots&-c_{n,n-1}&1 \\\\\n",
    " \\end{bmatrix} $\n",
    " Luego la inversa de C es una matriz diagonal inferior con 1 en la diagonal"
   ]
  },
  {
   "cell_type": "markdown",
   "metadata": {},
   "source": [
    "- k)Dada una matriz C, triangular inferior con 1 en la diagonal, determine la forma de los elementos de $ C^{-1} $ , donde $ C^{-1} $ es la inversa de C.\n",
    "### Respuesta\n",
    "Si C es una matriz diagonal inferior con 1 en la diagonal , los elementos de $ C^{-1} $ tienen la forma si  i = j $ c'[i,j] $ = 1  y si i != j $ c'[i,j] = c[i,j] $  donde c' son los elemtos de $ C^{-1} $ y c los de "
   ]
  },
  {
   "cell_type": "markdown",
   "metadata": {},
   "source": [
    " - l)  Tomando en cuenta que\n",
    "C12 ∗ A = U32,\n",
    "que C12 es una matriz triangular inferior, inversible, que U32 es una matriz triangular superior, demuestre que una matriz A de tamaño 3, a la que se le puede aplicar el método de Gauss sin realizar intercambio de filas, se puede expresar com el producto de una matriz triangular inferior con 1 en la diagonal, y una matriz triangular superior, que es la misma matriz que resulta de aplicar el método de Gauss a la matriz A.\n",
    "### Respuesta\n",
    " $ C_{12} \\ast A = U_{32} $ multiplicando por $ C^{-1}_{12} $ por la izquierda $ \\\\ $\n",
    "      $ C^{-1}_{12}C_{12} A = C^{-1}_{12}U_{32} \\\\ $\n",
    "      $ I_nA =  C^{-1}_{12}U_{32} \\\\ $ \n",
    "      $ A =  C^{-1}_{12}U_{32} \\\\ $\n",
    "      Luego como $ C_{12} $ es una matriz triangular inferior con 1 en la dioganal $ C^{-1}_{12} $ tambien lo es demostrado anteriormente ; Luego A se puede exprexar como la multiplicación de una matriz trinagular inferior con 1 en la diagonal y una matriz triangular superior con uno en la diagonal "
   ]
  },
  {
   "cell_type": "markdown",
   "metadata": {},
   "source": [
    "- m) A partir de los elementos de la matriz A y el método de Gauss ¿qué forma tiene el elementos (i, j), con i > j en la matriz triangular inferior?\n",
    "### Respuesta\n",
    "Los elementos (i,j) con i > j tienen la forma $ -a[i,j] $ en la matriz triangular inferior "
   ]
  },
  {
   "cell_type": "markdown",
   "metadata": {},
   "source": [
    "# Ejercicio 3: Unicidad de L y U\n",
    "El objetivo de este ejercicio es demostrar que la descomposición LU de una matriz A cuadrada, a la que se le puede aplicar el método de Gauss sin realizar intercambios de filas, es única.Eso quiere decir que si A = LU, entonces no existen otras dos matrices $ L_1 y\n",
    "U_1 $ distintas de L y U, respectivamente, tales que $ A = L_1U_1 $.La idea de la demostración es similar a la de muchas demostraciones de unicidad. Lo que hay que hacer es suponer que existen dos descomposiciones $ \\\\ $\n",
    "$ L_1U_1 = A = L_2U_2. \\\\ $ \n",
    "Eso significar´ıa que $ \\\\ $\n",
    "$ L_1U_1 = L_2U_2. \\\\ $\n",
    "Pero, como $ L_i $ y$ U_i $ son inversibles, entonces:\n",
    "$ L^{-1}_2L_1 = U_2U^{-1}_1 \\\\ $\n",
    "y por lo tanto:\n",
    "$ L_1 = L_2, y U_1 = U_2 \\\\ $.\n",
    "Esa es la idea de la demostración. Tu misión en este ejercicio, es rellenar los pasos omitidos de la demostración tomando en cuenta las siguientes pistas:\n",
    "- La inversa de una triangular inferior es una triangular inferior.\n",
    "- El producto de dos triangulares inferiores es triangular inferior.\n",
    "- La inversa de una triangular superior es una triangular superior.\n",
    "- El producto de dos triangulares superiores es triangular superior.\n",
    "- ¿Cómo es posible que una triangular inferior sea igual a una triangular superior? :-o.\n",
    "- La diagonal de $ L_1 y L_2 $ son 1.\n",
    "- La inversa de una matriz es única. $ \\\\ $\n",
    "Y hasta aquí ya puedes enunciar ¡y demostrar! el teorema de la descomposición LU de una matriz, que plantea lo siguiente: $ \\\\ $\n",
    "Para toda matriz A, cuadrada, no singular y a la que se le puede aplicar el método de Gauss sin realizar intercambios de filas existen dos matrices únicas L y U tales que A = LU.\n",
    "# Respuesta \n",
    "Dada la matriz A supongamos que $ A = L_1U_1 $ y $ A = L_2U_2 $ tal que $ L_1 != L_2 $ y $ U_1 != U_2 \\\\ $\n",
    "$ L_1U_1 = L_2U_2 $  Como L_2 y U_1 son inversibles $ \\\\ $\n",
    "$ L^{-1}_{2}L_1 = U_2U^{-1}_1 $ Entonces $ L^{-1}_{2}L_1 $ es una matriz trinagular inferior porque el producto de matrices triangulares inferiores es una matriz trinagular inferior y  $ U_2U^{-1}_1 $ es trinagular inferior porque el producto de matrices trinagulares inferiores es una matriz trinagular inferior $ \\\\ $\n",
    "Luego a única matriz que cumple estas condiciones es la matriz identidad $ \\\\ $\n",
    "Por tanto : $ \\\\ $\n",
    "$ L^{-1}_2L_1 = I_n $ y $ U_2U^{-1}_1 = I_n $\n",
    "$ L_2 L^{-1}_2L_1 = L_2I_n $ y $ U_2U^{-1}_1U_1 = I_nU_1 $\n",
    "$ L_1 = L_2 $ y $ U_2 = U_1 $ \n",
    "###### Contradición \n",
    "Lo supuesto es falso ; por tanto $ A = L_1U_1 $ y $ A = L_2U_2 $ si $ L_1 = L_2 $ y $ U_2 = U_1 $ "
   ]
  },
  {
   "cell_type": "markdown",
   "metadata": {},
   "source": [
    "# Ejercicio 4: todo muy lindo, pero ¿qué hacemos con los cambios de fila?\n",
    "¿Qué hacer en caso de que sean necesarios los cambios de fila? La respuesta es sencilla: ya conoces las matrices de permutaciones que te permiten intercambiar las filas de una matriz. $ \\\\ $\n",
    "La solución es: si es necesario hacer intercambios de fila, se multiplica por la matriz P correspondiente para que eso no sea necesario.$ \\\\ $\n",
    "¿De dónde sale esa P? ¡De tu implementación eficiente del método de Gauss! Con eso, y puedes explicar por qué la descomposición se llama descomposición PLU.\n",
    "# Respuesta \n",
    "Se llama descomposición PLU porque para la misma se necesitan tres matrices : una matriz P que es una matriz de permutaciones de la matriz identidad que nos permite hacer intercambio de la filas y columnas , una matriz L que es triangular inferior con 1 en la diagonal y una matriz P es que es una matriz triangular superior "
   ]
  },
  {
   "cell_type": "markdown",
   "metadata": {},
   "source": []
  }
 ],
 "metadata": {
  "kernelspec": {
   "display_name": "Python 3",
   "language": "python",
   "name": "python3"
  },
  "language_info": {
   "codemirror_mode": {
    "name": "ipython",
    "version": 3
   },
   "file_extension": ".py",
   "mimetype": "text/x-python",
   "name": "python",
   "nbconvert_exporter": "python",
   "pygments_lexer": "ipython3",
   "version": "3.7.4"
  }
 },
 "nbformat": 4,
 "nbformat_minor": 2
}
