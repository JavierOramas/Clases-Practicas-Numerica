{
 "cells": [
  {
   "cell_type": "markdown",
   "metadata": {},
   "source": [
    "# Ejercicio 1: En este ejercicio hay varios errores (10000 créditos)\n",
    "\n",
    "Alguien calculó 1.41, 0.02573 y 846.28 como aproximaciones de $\\sqrt{2}$, 0.024 y 847.\n",
    "- a) Calcule el error absoluto en cada caso\n",
    "### Respuesta:\n",
    "$$ |e| = |x - \\bar{x}| $$ \n",
    "$$ |e_{1}| = |1.41421356237 - 1.41| = 0.00421356237 $$\n",
    "$$ |e_{2}| = |0.024 - 0.02573| = 0.00173 $$\n",
    "$$ |e_{3}| = |847 - 846.28| = 0.72 $$"
   ]
  },
  {
   "cell_type": "markdown",
   "metadata": {},
   "source": [
    "- b) Calcule el error relativo en cada caso.\n",
    "### Respuesta:\n",
    "$$ \\delta = \\frac{|e|}{|x|} $$\n",
    "$$ \\delta_{1} = \\frac{|e_{1}|}{|\\sqrt{2}} =  0.0029794385 $$\n",
    "$$ \\delta_{2} = \\frac{|e_{2}|}{|0.024|} = 0.720833333 $$\n",
    "$$ \\delta_{3} = \\frac{|e_{3}|}{|847|} = 0.000850059 $$"
   ]
  },
  {
   "cell_type": "markdown",
   "metadata": {},
   "source": [
    "- c) Diga cuántas cifras signficativas correctas tiene cada una de las aproximaciones.\n",
    "### Respuesta:\n",
    "$$ |\\delta| \\leq  \\frac{1}{2}\\beta^{1-k} $$\n",
    "    - 1 $$ |\\delta_{1}| \\leq \\frac{1}{2}10^{1-3} $$\n",
    "    $$ 0.0029794385 \\leq 0.005 $$ (tiene 3 cifras significativas correctas)\n",
    "    $$ |\\delta_{1}| \\leq \\frac{1}{2}10^{1-4} $$\n",
    "    $$ 0.0029794385 \\not\\leq 0.0005 $$ (no tiene 4 cifras significativas correctas)\n",
    "    - 2 $$ |\\delta_{2}| \\leq \\frac{1}{2}10^{1-0} $$\n",
    "    $$ 0.720833333 \\leq 5 $$ (tiene 0 cifras significativas correctas)\n",
    "     $$ |\\delta_{2}| \\leq \\frac{1}{2}10^{1-1} $$\n",
    "    $$ 0.0.720833333 \\not\\leq 0.5 $$ (no tiene 1 cifra significativa correcta)\n",
    "    - 3 $$ |\\delta_{3}| \\leq \\frac{1}{2}10^{1-3} $$\n",
    "    $$ 0.000850059 \\leq 0.005 $$ (tiene 3 cifras significativas correctas)\n",
    "    $$ |\\delta_{3}| \\leq \\frac{1}{2}10^{1-4} $$\n",
    "    $$ 0.000850059 \\not\\leq 0.0005 $$ (no tiene 4 cifras significativas correctas)"
   ]
  },
  {
   "cell_type": "markdown",
   "metadata": {},
   "source": [
    "d) ¿Cuál es la aproximación más precisa?\n",
    "### Respuesta:\n",
    "La mejor aproximación es la de $ 847 \\approx 846.28 $ dado que el error relativo es el menor"
   ]
  },
  {
   "cell_type": "markdown",
   "metadata": {},
   "source": [
    "# Ejercicio 2: e de error (15000 créditos)\n",
    "El número e se puede calcular como $ e = \\sum^{\\infty}_{i=0} \\frac{1}{n!}$. Calcule el error absoluto y relativo que se obtienen\n",
    "al realizar las siguientes aproximaciones:\n",
    "a) $ e \\approx \\sum_{i=0}^{5}\\frac{1}{n!}$\n",
    "### Respuesta:\n",
    "$$ \\sum_{i=0}^{5}\\frac{1}{n!} = 2.708333333333333 $$\n",
    "$$ |e_{1}| = |2.7182818284590445 - 2.708333333333333| = 0.009948495125712054 $$\n",
    "$$ \\delta = \\frac{|e_{1}|}{|e|} =  0.003659846827343768 $$\n",
    "b) $ e \\approx \\sum_{i=0}^{5}\\frac{1}{n!}$\n",
    "### Respuesta:\n",
    "$$ \\sum_{i=0}^{5}\\frac{1}{n!} = 2.7182815255731922 $$\n",
    "$$ |e_{2}| = |2.7182818284590445 - 2.7182815255731922 | = 3.0288585284310443e-07 $$\n",
    "$$ \\delta = \\frac{|e_{2}|}{|e|} = 1.1142547828265698e-07 $$\n"
   ]
  },
  {
   "cell_type": "markdown",
   "metadata": {},
   "source": [
    "# Ejercicio 3: Este ejercicio se puede hacer con una condición (20000 créditos)\n",
    "Calcule cond(f), para la función $ f(x) = (x − 1)^2$.\n",
    "\n",
    "$$ cond(f) = \\frac{|x * 2(x-1)|}{(x-1)^{2}} = \\frac{|2x|}{x-1} = \\frac{|2|}{|1-\\frac{1}{x}|}$$\n",
    "\n",
    "a) Determine un valor de x para el que f(x) esté bien condicionada.\n",
    "\n",
    "### Respuesta:\n",
    "\n",
    "$$ -1 < \\frac{2x}{x-1} < 1 $$\n",
    "$$ -(x-1) < 2x < x-1 $$\n",
    "$$ -(x-1) < 2x $$\n",
    "$$ 1 < 3x $$\n",
    "$$ x > \\frac{1}{3} $$\n",
    "\n",
    "$$ 2x < x-1 $$\n",
    "$$ x < -1 $$\n",
    "\n",
    "Está bien condicionada $ \\forall x : x \\in (-\\infty,-1) \\cup (\\frac{1}{3}, +\\infty)$\n",
    "\n",
    "\n",
    "b) ¿Para qué valores de x la función está mal condicionada?\n",
    "### Respuesta:\n",
    "\n",
    "Está bien condicionada $ \\forall x : x \\in [-1,\\frac{1}{3}]$\n"
   ]
  },
  {
   "cell_type": "markdown",
   "metadata": {},
   "source": [
    "# Ejercicio 4: Diga NO a la inestabilidad de calculo (40000 créditos)\n",
    "Dadas las funciones $ f(x) =\\sqrt{x + 4} − 2, g(x) = 1 − e^{x} $:\n",
    "\n",
    "a) ¿Qué problema numérico aparece al evaluar f(x) y g(x) en valores de x que estén cercanos\n",
    "a 0?\n",
    "### Respuesta\n",
    "\n",
    "Inestabilidad de cálculo o cancelación catastrófica por tomar valores cercanos a 0\n",
    "\n",
    "b) Encuentre expresiones equivalentes para f(x) y g(x) en las que no aparezca el problema\n",
    "detectado en el inciso anterior.\n",
    "### Respuesta:\n",
    "$$ f(x) = \\sqrt{x+4} - 2 \\frac{\\sqrt{x+4}+2}{\\sqrt{x+4}+2} = \\frac{x+4-4}{\\sqrt{x+4}+2} = \\frac{x}{\\sqrt{x+4}+2}$$\n",
    "\n",
    "Utilizando Serie de Taylor:\n",
    "\n",
    "$$ g(x) = 1-e^{x} \\approx 1 - (1 + x + \\frac{x^{2}}{2} + \\frac{x^{3}}{6}) \\approx 1 - 1 -(x + \\frac{x^{2}}{2} + \\frac{x^{3}}{6}) \\approx -(x + \\frac{x^{2}}{2} + \\frac{x^{3}}{6}) $$"
   ]
  },
  {
   "cell_type": "markdown",
   "metadata": {},
   "source": [
    "# Ejercicio 5: Si no se conoce el valor real... ¡No importa! (40000 créditos)\n",
    "Cuando se trabaja con métodos numéricos nunca\n",
    "se conoce el valor real que se esté buscando. ¡Eso\n",
    "hace que en la práctica sea imposible calcular el error relativo :-o! Sin embargo, en la párctica\n",
    "se suele usar el valor $\\bar{\\delta} $ que se calcula como:\n",
    "\n",
    "$$ \\bar{\\delta} =\\frac{|x − \\bar{x}|}{|\\bar{x}|} $$\n",
    "\n",
    "Lo que hay que hacer en este ejercicio es que si δ ≈ 0, entonces $ \\bar{\\delta}$\n",
    "\n",
    "- Pregunta secreta: la fórmula de error relativo es $\\frac{|x-\\bar{x}|}{|x|}$ donde x es el valor original, si no se conoce, no es posible calcular el error relativo\n",
    "\n",
    "### Respuesta:\n",
    "\n",
    "$$ \\frac{|x-\\bar{x}|}{|x|} \\approx 0 $$\n",
    "$$ |x-\\bar{x}| \\approx 0 $$\n",
    "pero si $ |x-\\bar{x}| \\approx 0 $, entonces:\n",
    "$$ \\frac{|x-\\bar{x}|}{|\\bar{x}|} \\approx 0 $$\n",
    "luego:\n",
    "$$ \\frac{|x-\\bar{x}|}{|x|} \\approx \\frac{|x-\\bar{x}|}{|\\bar{x}|} $$\n",
    "$$ \\delta \\approx \\bar{\\delta} $$"
   ]
  },
  {
   "cell_type": "markdown",
   "metadata": {},
   "source": [
    "# Ejercicio 6: ¿Puedes hacer el ejercicio en abstracto? :-/ (40000 créditos)\n",
    "Sean $ h(x) = \\sqrt{x + 1} − \\sqrt{x} $ y F = (β, p, m, M) una aritmética de punto flotante.\n",
    "\n",
    "- pregunta secreta: cancelación catastrófica\n",
    "\n",
    "a) ¿Para qué valor de x, hay “problemas” al evaluar h(x) en la aritmética F.\n",
    "### Respuesta:\n",
    "$$ x < \\beta^{m-p} $$\n",
    "\n",
    "b) Cómo se puede evaluar h(x) evitando el problema indicado en el inciso anterior.\n",
    "### Respuesta:\n",
    "$$ \\sqrt{x+1} - \\sqrt{x} * \\frac{\\sqrt{x+1}+ \\sqrt{x}}{\\sqrt{x+1} + \\sqrt{x}} = \\frac{x+1-x}{\\sqrt{x+1}+\\sqrt{x}} = \\frac{1}{\\sqrt{x+1}+\\sqrt{x}} \\approx \\frac{1}{2\\sqrt{x}}$$"
   ]
  },
  {
   "cell_type": "markdown",
   "metadata": {},
   "source": [
    "# Ejercicio 7: Para no discriminar contenidos (50000 créditos)\n",
    "Una de las soluciones de la ecuación cuadrática $ ax^2 + bx + c = 0 $  se puede obtener como:\n",
    "\n",
    "$$ x_1 =\\frac{−b +\\sqrt{b^2 − 4ac}}{2a} $$\n",
    "\n",
    "a) Para qué valores de a, b y c esta forma de calcular x1 resulta numéricamente inestable en\n",
    "una arimética F(β, p, m, M).\n",
    "### Respuesta:\n",
    "$$ b^{2} \\approx 4ac $$\n",
    "$$ -b \\approx \\sqrt{b^2 − 4ac} $$\n",
    "\n",
    "b) Utilizando los conceptos de estabilidad de cálculo y condición de una función, justifique por\n",
    "qué los valores determinados en el inciso anterior para a, b y c hacen que esa forma de calcular\n",
    "x1 sea inestable.\n",
    "### Respuesta:"
   ]
  },
  {
   "cell_type": "markdown",
   "metadata": {},
   "source": [
    "# Ejercicio 8: Para vincular conceptos e ideas (60000 créditos)\n",
    "Explique el fenómeno de cancelación catastrófica en términos de la condición de la resta. Para ello:\n",
    "a) Argumente qué tiene que ver la cantidad de cifras significativas correctas con el error relativo.\n",
    "### Respuesta:\n",
    "Se enuentran relacionadas por la fórmula:\n",
    "$$ |\\delta| = \\frac{1}{2}\\beta^{1-k} $$\n",
    "(con $\\delta$ como error relativo y k la cantidad de cifras significativas correctas)\n",
    "\n",
    "b) Explique qué tiene que ver el error relativo con la condición de una función.\n",
    "### Respuesta:\n",
    "$$ cond(f) = \\frac{\\frac{|f(\\bar{x})-f(x)|}{|f(x)|}}{\\frac{|\\bar{x}-x|}{|x|}} = \\frac{|\\delta|}{\\frac{e}{|x|}} = \\frac{e|\\delta|}{|x|} $$\n",
    "\n",
    "c) Determine para qué valores de x la función f(x) = x − a, con a ∈ R está mal condicionada.\n",
    "### Respuesta:\n",
    "$$ cond(f) = \\frac{xf^{'}(x)}{f(x)} = \\frac{x}{x-a} \\implies \\lim_{x\\to a}\\frac{x}{x-a} = \\infty $$\n",
    "cunado x = a la funciomn está mal condicionada\n",
    "\n",
    "d) Usa los resultados de los incisos anteriores e impresiona a los profesores ;-)."
   ]
  },
  {
   "cell_type": "markdown",
   "metadata": {},
   "source": [
    "# Ejercicio 9: El problema con las cifras significativas correctas (Al menos 30000 créditos)\n",
    "Es un hecho comúnmente aceptado que tus resultados matemáticos serán tan buenos como las\n",
    "definiciones de las que partas. La idea de cifras significativas correctas tiene el inconveniente de que\n",
    "para casi cualquier definición “medianamente sensata e intuitiva” que se dé, se pueden encontrar\n",
    "ejemplos que no “encajan” con esa definición.\n",
    "Ponga al menos dos ejemplos de estas posibles definiciones “sensatas” y cuáles son los problemas\n",
    "que tienen.\n",
    "\n",
    "### Respuesta:\n",
    "- $Def_1:$ La cantidad de cifras significativas correctas es la cantidad de cifras que coinciden entre el valor real y el aproximado.\n",
    "\n",
    "    En esta definición se puede apreciar el error si tomamos por ejemplo 5.1 y 4.9999 como apriximaciones de 2, que tienen 1 y 0 cifras significativas respectivamente, pero en este caso 4.9999 es una mejor aproximación a pesar de tener menos cifras coincidentes con el valor original\n",
    "    \n",
    "- $Def_2:$ Una aproximación $ \\bar{x} $ de x tiene p cifras significativas correctas si redondean al mismo número de p cifras significativas\n",
    "    \n",
    "    En este caso x = 0.9949 y $\\bar{x} = 0.9951$, $\\bar{x}$ no tiene 2 cifras significativas correctas ($ x \\to 0.99, \\bar{x} \\to 1.00$) pero si tiene 1 y 3\n",
    "    \n",
    "- $Def_3:$ las cifras significativas correctas son el mayor k tal que $|\\delta| = \\frac{1}{2}\\beta^{1-k}$\n",
    "\n",
    "    Según esta definicion, 0.127 y 0.123 deben tener 3 cifras significativas correctas, lo cual no es correcto\n",
    "\n",
    "- $Def_4:$ Si tomamos $ x = a_1 10^n + a_2 10^{n-1} + \\cdots + a_n 10^0 $, $ \\bar{x} = b_1 10^k + \\cdots + b_0 10^0 $ y $ |e| = c_1 10^m + \\cdots + c_m 10^0 $, las cifras significativas correctas serán p = n-m+1\n",
    "\n",
    "    con 127 y 123,  p = 2 - 0 + 1 = 3 (incorrecto)"
   ]
  },
  {
   "cell_type": "markdown",
   "metadata": {},
   "source": [
    "# Ejercicio 10: Tipos de errores (60000 créditos)\n",
    "Por la forma en que se calculan, los errores pueden ser absolutos o relativos, pero de acuerdo a su\n",
    "origen se pueden clasificar en tres grandes grupos: de redondeo, de truncamiento e inherentes.\n",
    "a) Diga en qué consiste cada uno de estos “errores”.\n",
    "- Error de Truncamiento:\n",
    "    Este error surge a raiz de que se desechan cifras, lo cual va a ser un valor menor q el original\n",
    "\n",
    "- Error de Redondeo:\n",
    "    Este error conciste que la se puede obtener cifra puede ser mayor o menor q el verdadero valor, dependiendo de si la última cifra es mayor que 5 o no\n",
    "\n",
    "- Error Inherente\n",
    "    Este error se encontraba en los datos de entrada y viene dado por aproximaciones anteriores\n",
    "\n",
    "b) Pon al menos dos ejemplos de cada uno de ellos.\n",
    "- Truncamiento:\n",
    "    $$ 1.01 \\approx 1  $$\n",
    "    $$ 1.9 \\approx 1.0 $$\n",
    "- Redondeo:\n",
    "    $$ 1.01 \\approx 1  $$\n",
    "    $$ 1.9 \\approx 2.0 $$\n",
    "- Inherente:\n",
    "    $$ \\pi + 3 = 6.15 $$\n",
    "    $$ \\pi = 3.14 $$"
   ]
  },
  {
   "cell_type": "markdown",
   "metadata": {},
   "source": [
    "# Ejercicio 11: Errores catastróficos (de verdad) (Al menos 30000 créditos)\n",
    "Para ponerle emoción a la asignatura, en este ejercicio hay explosiones, muertes, y misterios de la\n",
    "vida real, todos relacionados con tus recientes conocimientos de Matemática Numérica :-o.\n",
    "\n",
    "a) Busca ejemplos de catástrofes y problemas reales que hayan ocurrido por culpa del mal uso\n",
    "de la matemática numérica.\n",
    "\n",
    "b) Describe y explica (si puedes) los elementos de matemática numérica que intervinieron en\n",
    "esas catástrofes.\n",
    "\n",
    "c) ¿Puedes decir cómo se hubieran podido evitar esos problemas?"
   ]
  },
  {
   "cell_type": "markdown",
   "metadata": {},
   "source": [
    "- #### Ejemplo 1: \n",
    "    a) Fallo de un misil Patriot, el 25 de febrero de 1991 durante la guerra del Golfo, una batería de estos misiles no fue capaz de interceptar un misil Scud iraquí, como resultado murieron 28 soldados\n",
    "    \n",
    "    b) Causado por utilizar el redondeo por truncamiento en vez del redonde en el sistema que calcula el momento excato en que debe ser lanzado el misil, los ordenadores Patriot almacenan los numeros reales representados en punto flotante, con una mantisa de 64 bits, para convertir el tiempo entero en un número real se multiplica por 1/10 y se trunca en resultado (en vez de redondear), el error, al multiplicarse por un entero grande puede conducir a un error significativo. Como la bateria llevaba funcionando mas de 100 horas, el error resoltante es cercano a 0.34 segundos. En ese timepo, el misil Scud recorre mas de medio Km de de distancia, suficiente para no ser alcanzado por el Patriot.\n",
    "    \n",
    "    c) Numéricamente podía haber sido resuelto el error utilizando redondeo en vez de Truncamiento, y además como medida adicional, se podría reiniciar el sistema cada cierto timepo para evitar que acumule tanto tiempo, sabiendo que este puede amplificar el error cometido\n",
    "\n",
    "- #### Ejemplo 2:\n",
    "    \n",
    "    a) Explosión del cohete Ariane 5\n",
    "    \n",
    "    b) El error se produce en el software que se encargaba de controlar el sistema de refrigeración inercial, se produjo una excepción en el software cuando se intenta convertir un numero representado en punto flotante de 64 bits a la plataforma de lanzamiento de 16 bits\n",
    "    \n",
    "    c) Se puede solucionar implantando un estándar que garantice la compatibilidad de todos los sistemas numéricos que intervengan en el funcionamiento del cohete\n",
    "\n",
    "- #### Ejemplo 3: \n",
    "     a) \n",
    "     b) "
   ]
  }
 ],
 "metadata": {
  "kernelspec": {
   "display_name": "Python 3",
   "language": "python",
   "name": "python3"
  },
  "language_info": {
   "codemirror_mode": {
    "name": "ipython",
    "version": 3
   },
   "file_extension": ".py",
   "mimetype": "text/x-python",
   "name": "python",
   "nbconvert_exporter": "python",
   "pygments_lexer": "ipython3",
   "version": "3.7.4"
  }
 },
 "nbformat": 4,
 "nbformat_minor": 2
}
