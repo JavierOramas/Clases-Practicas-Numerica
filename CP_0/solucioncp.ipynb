{
 "cells": [
  {
   "cell_type": "markdown",
   "metadata": {},
   "source": [
    "# 1 - Notacion cientifica en la Computadora (5000 créditos)"
   ]
  },
  {
   "cell_type": "code",
   "execution_count": 39,
   "metadata": {},
   "outputs": [
    {
     "name": "stdout",
     "output_type": "stream",
     "text": [
      "a) 4500000 con 4 caracteres: 45e5 == 4500000.0\n",
      "b) -1230000 con 6 caracteres: -123e4 == -1230000.0\n",
      "c) 0.000000123 con 6 caracteres: 123e-9 == 1.23e-07\n",
      "d) 1 con 4 caracteres: 1e00 == 1.0\n"
     ]
    }
   ],
   "source": [
    "print(f'a) 4500000 con 4 caracteres: 45e5 == {45e5}')\n",
    "print(f'b) -1230000 con 6 caracteres: -123e4 == {-123e4}')\n",
    "print(f'c) 0.000000123 con 6 caracteres: 123e-9 == {123e-9}')\n",
    "print(f'd) 1 con 4 caracteres: 1e00 == {1e00}')"
   ]
  },
  {
   "cell_type": "markdown",
   "metadata": {},
   "source": [
    "# 2 - No confies en los calculos de las computadoras (10000 créditos)"
   ]
  },
  {
   "cell_type": "code",
   "execution_count": 40,
   "metadata": {},
   "outputs": [
    {
     "name": "stdout",
     "output_type": "stream",
     "text": [
      "a) 0.4 * 6 > 0.24 : True\n",
      "b) 0.8 * 3 == 0.3 * 8 : False\n",
      "c) 0.3 * 3 == 0.9 : False\n",
      "d) 3.1 * 2 < 6.2 : False\n",
      "e) 1e100 + 1e50 == 1e100 : True\n"
     ]
    }
   ],
   "source": [
    "# a)\n",
    "print(f'a) 0.4 * 6 > 0.24 : {0.4 * 6 > 0.24}')\n",
    "print(f'b) 0.8 * 3 == 0.3 * 8 : {0.8 * 3 == 0.3 * 8}') \n",
    "print(f'c) 0.3 * 3 == 0.9 : {0.3 * 3 == 0.9}')\n",
    "print(f'd) 3.1 * 2 < 6.2 : {3.1 * 2 < 6.2}')\n",
    "print(f'e) 1e100 + 1e50 == 1e100 : {1e100 + 1e50 == 1e100}')"
   ]
  },
  {
   "cell_type": "code",
   "execution_count": 41,
   "metadata": {},
   "outputs": [
    {
     "name": "stdout",
     "output_type": "stream",
     "text": [
      "84\n"
     ]
    }
   ],
   "source": [
    "## b) 1e100 + 10**n > 1e100  para N = 84   \n",
    "i = 1\n",
    "while not (1e100+10**i > 1e100):\n",
    "    i+=1\n",
    "print(i)\n"
   ]
  },
  {
   "cell_type": "markdown",
   "metadata": {},
   "source": [
    "### c) en este caso los float de c,c++ y c# son de 32 bits, lo que quiere decir que no seran suficientes para guardar un numero lo suficientemente grande como para que al sumarlo con 1e100, esta suma sea mayor q 1e100\n",
    "#include<stdio.h>\n",
    "#include<math.h>\n",
    "\n",
    "int main()\n",
    "{\n",
    "\n",
    "    float n = 1.0;\n",
    "    float i = 1.0;\n",
    "    while(pow(n,i) + 1e100 == 1e100){\n",
    "        i++;\n",
    "        if(i > 100){\n",
    "            printf(\"no se pudo encontrar el valor, se sale de los rangos de float\");\n",
    "            return 0;\n",
    "        }\n",
    "            \n",
    "    }\n",
    "    printf(\"%d\", i);\n",
    "        \n",
    "    return 0;\n",
    "}"
   ]
  },
  {
   "cell_type": "markdown",
   "metadata": {},
   "source": [
    "# 3 - Python! (10000 créditos)"
   ]
  },
  {
   "cell_type": "code",
   "execution_count": 42,
   "metadata": {},
   "outputs": [
    {
     "name": "stdout",
     "output_type": "stream",
     "text": [
      "720\n",
      "720\n",
      "720\n"
     ]
    }
   ],
   "source": [
    "from scipy.special import gamma\n",
    "\n",
    "# a)\n",
    "def factorial_recursivo(num:int):\n",
    "    if num == 1:\n",
    "        return num\n",
    "    else:\n",
    "        return num * factorial_iterativo(num-1)\n",
    "\n",
    "# b)\n",
    "def factorial_iterativo(num:int):\n",
    "    sol = 1\n",
    "    while num > 1:\n",
    "        sol *= num\n",
    "        num -= 1\n",
    "    return sol\n",
    "\n",
    "# c)\n",
    "def factorial_gamma(num:int):\n",
    "    return int(gamma(num+1))\n",
    "\n",
    "print(factorial_iterativo(6))\n",
    "print(factorial_recursivo(6))\n",
    "print(factorial_gamma(6))"
   ]
  },
  {
   "cell_type": "markdown",
   "metadata": {},
   "source": [
    "# 4 - Análisis Matemático en Python (20000 créditos)"
   ]
  },
  {
   "cell_type": "code",
   "execution_count": 43,
   "metadata": {},
   "outputs": [
    {
     "name": "stdout",
     "output_type": "stream",
     "text": [
      "2.0100000000000007\n",
      "2.000099999999172\n",
      "2.0000009999243673\n",
      "2.000000165480742\n",
      "2.000177801164682\n"
     ]
    }
   ],
   "source": [
    "# a)\n",
    "def aprox_derivada(f, x:float, h:float):\n",
    "    return (f(x+h)-f(x))/h\n",
    "\n",
    "# b)\n",
    "f = lambda x : x**2\n",
    "\n",
    "print(aprox_derivada(f, 1, 0.01))\n",
    "print(aprox_derivada(f, 1, 0.0001))\n",
    "print(aprox_derivada(f, 1, 0.000001))\n",
    "print(aprox_derivada(f, 1, 0.000000001))\n",
    "print(aprox_derivada(f, 1, 0.000000000001))\n"
   ]
  },
  {
   "cell_type": "markdown",
   "metadata": {},
   "source": [
    "- c)\n",
    "    * pregunta secreta: (sabemos q la derivada de f(1) es 2) tomando el valor de h que haga que abs(aprox_derivada(f,1,h) - 2) sea minimo"
   ]
  },
  {
   "cell_type": "code",
   "execution_count": 44,
   "metadata": {},
   "outputs": [
    {
     "name": "stdout",
     "output_type": "stream",
     "text": [
      "9.999815438175232e-08\n"
     ]
    }
   ],
   "source": [
    "h = 0.1\n",
    "last = abs(aprox_derivada(f,1,h)-2)\n",
    "\n",
    "# tomando 0.0000001 como minimo incremento...\n",
    "\n",
    "while True:\n",
    "    h -= 0.0000001\n",
    "    current = abs(aprox_derivada(f,1,h)-2)\n",
    "    if current > last:\n",
    "        h += 0.0000001\n",
    "        break\n",
    "    last = current\n",
    "print(h)\n",
    "# esto es un resultado aproximado, con incrementos menores el resultado debe ser mas preciso, pero aumenta el costo computacional"
   ]
  },
  {
   "cell_type": "markdown",
   "metadata": {},
   "source": [
    "# 5 - Primera introducción a la Serie da Taylor (20000 créditos)\n",
    "\n",
    "- a) Aproximacion por Serie de Taylor\n",
    "- b) $ \\sum_{n=0}^{\\infty}\\frac{f^{n}(a)}{n!}(x-a)^{n} $\n",
    "- c) Calcule el desarrollo en serie de (Taylor) de las siguientes Funciones:\n",
    "    - $ f(x) = e^{x} $\n",
    "       $$ f(x) = e^{(x-a)} + \\frac{\\frac{d(e^{x})}{dx}(x-a)}{1!} + \\frac{\\frac{d^{2}(e^{x})}{d^{2}x}(x-a)^{2}}{2!} + \\frac{\\frac{d^{3}(e^{x})}{d^{3}x}(x-a)^3}{3!} + ... $$\n",
    "       $$ f(x) = e^{(x-a)} + e^{(x-a)} + \\frac{e^{(x-a)^{2}}}{2} + \\frac{e^{(x-a)^{3}}}{6} + ...$$\n",
    "    \n",
    "    - $ f(x) = \\sin(x) $\n",
    "        $$ f(x) = \\sin{(x-a)} + \\frac{\\frac{d\\sin{x}}{dx}(x-a)}{1!} + \\frac{\\frac{d^{2}\\sin{x}}{d^{2}x}(x-a)^{2}}{2!} + \\frac{\\frac{d^{3}\\sin{x}}{d^{3}x}(x-a)^{3}}{3!} + ... $$\n",
    "        $$ f(x) = \\sin{(x-a)} + \\cos{(x-a)} + \\frac{-\\sin{(x-a)^{2}}}{2} + \\frac{-\\cos{(x-a)^{3}}}{6} + ... $$\n",
    "    \n",
    "    - $ f(x) = x^{5}+6x^{3}-4x^{2}+5 $\n",
    "        $$ f(x) =  5(x-a)^{5} + 6(x-a)^{3} + 4(x-a)^{2}+ 5 + \\frac{5(x-a)^{4}+18(x-a)^{2}+x(x-a)}{1} + \\frac{20(x-a)^{6}+36(x-a)^{2}+8}{2} + \\frac{60(x-a)^{6}+36}{6} + ... $$"
   ]
  },
  {
   "cell_type": "markdown",
   "metadata": {},
   "source": [
    "# 6 - ¿Has visto las series de Taylor? (20000 créditos)"
   ]
  },
  {
   "cell_type": "code",
   "execution_count": 45,
   "metadata": {},
   "outputs": [],
   "source": [
    "import sympy as sy\n",
    "import numpy as np\n",
    "from sympy.functions import sin,cos\n",
    "import matplotlib.pyplot as plt\n",
    "import math\n",
    "\n",
    "plt.style.use('ggplot')\n",
    "sy.init_printing()"
   ]
  },
  {
   "cell_type": "code",
   "execution_count": 46,
   "metadata": {},
   "outputs": [],
   "source": [
    "def taylor(function,  x_0, n):\n",
    "    i = 0\n",
    "    p = 0\n",
    "    \n",
    "    while i <= n:\n",
    "        p = p + (function.diff(x,i).subs(x,x_0)/factorial_iterativo(i))*(x-x_0)**i\n",
    "        i += 1\n",
    "    return p"
   ]
  },
  {
   "cell_type": "code",
   "execution_count": 47,
   "metadata": {},
   "outputs": [],
   "source": [
    "def plot(func, n:int, x_0:float, a:float, b:float):\n",
    "    \n",
    "    y_0 = func.subs(x,x_0)\n",
    "    \n",
    "    plt.scatter(x_0,y_0, color='red', label=f'f({x_0})')\n",
    "    \n",
    "    x_lims = [a,b]\n",
    "    x1 = np.linspace(x_lims[0], x_lims[1], 800)\n",
    "    y1 = []\n",
    "    y2 = []\n",
    "    \n",
    "    func = taylor(f,x_0,n)\n",
    "    for k in x1:\n",
    "        y1.append(func.subs(x,k))\n",
    "        y2.append(f.subs(x,k))\n",
    "        \n",
    "    plt.plot(x1,y1,label=(f'Orden {str(n)}:'))        \n",
    "    plt.plot(x1,y2,label='Funcion Original',color='purple')\n",
    "    plt.xlim(x_lims)\n",
    "    plt.ylim([int(y_0)-5,5+int(y_0)])\n",
    "    plt.xlabel('x')\n",
    "    plt.ylabel('y')\n",
    "    plt.legend()\n",
    "    plt.grid(True)\n",
    "    plt.title('Aproximación por serie de Taylor')\n",
    "    plt.show()"
   ]
  },
  {
   "cell_type": "code",
   "execution_count": 48,
   "metadata": {},
   "outputs": [
    {
     "name": "stdout",
     "output_type": "stream",
     "text": [
      " x\n",
      "e \n",
      "Poliniomio de Taylor de orden 3\n",
      " 5        3    3       5        2    2                            \n",
      "e ⋅(x - 5) ⋅log (e)   e ⋅(x - 5) ⋅log (e)    5                   5\n",
      "─────────────────── + ─────────────────── + e ⋅(x - 5)⋅log(e) + e \n",
      "         6                     2                                  \n"
     ]
    },
    {
     "data": {
      "image/png": "[encoded data removed]",
      "text/plain": [
       "<Figure size 432x288 with 1 Axes>"
      ]
     },
     "metadata": {},
     "output_type": "display_data"
    }
   ],
   "source": [
    "e = sy.Symbol('e')\n",
    "x = sy.Symbol('x')\n",
    "f = e**x\n",
    "n = 3\n",
    "\n",
    "sy.pprint(f)\n",
    "func = taylor(f,5,n)\n",
    "print(f'Poliniomio de Taylor de orden {n}')\n",
    "sy.pprint(func)\n",
    "\n",
    "f = f.subs(e, math.e)\n",
    "\n",
    "plot(f,n,5,-10,10)"
   ]
  },
  {
   "cell_type": "code",
   "execution_count": 49,
   "metadata": {},
   "outputs": [
    {
     "name": "stdout",
     "output_type": "stream",
     "text": [
      "sin(x)\n",
      "Poliniomio de Taylor de orden 2\n",
      "         2                                 \n",
      "  (x - 5) ⋅sin(5)                          \n",
      "- ─────────────── + (x - 5)⋅cos(5) + sin(5)\n",
      "         2                                 \n"
     ]
    },
    {
     "data": {
      "image/png": "[encoded data removed]",
      "text/plain": [
       "<Figure size 432x288 with 1 Axes>"
      ]
     },
     "metadata": {},
     "output_type": "display_data"
    }
   ],
   "source": [
    "x = sy.Symbol('x')\n",
    "f = sin(x)\n",
    "n = 2\n",
    "\n",
    "sy.pprint(f)\n",
    "func = taylor(f,5,n)\n",
    "print(f'Poliniomio de Taylor de orden {n}')\n",
    "sy.pprint(func)\n",
    "\n",
    "plot(func, n, 5.6,-10,10)"
   ]
  },
  {
   "cell_type": "code",
   "execution_count": 50,
   "metadata": {},
   "outputs": [
    {
     "name": "stdout",
     "output_type": "stream",
     "text": [
      " 5      3      2    \n",
      "x  + 6⋅x  + 4⋅x  + 5\n",
      "Poliniomio de Taylor de orden 1\n",
      "12943⋅x - 71535\n"
     ]
    },
    {
     "data": {
      "image/png": "[encoded data removed]",
      "text/plain": [
       "<Figure size 432x288 with 1 Axes>"
      ]
     },
     "metadata": {},
     "output_type": "display_data"
    }
   ],
   "source": [
    "x = sy.Symbol('x')\n",
    "f = x**5+6*x**3+4*x**2+5\n",
    "n = 1\n",
    "\n",
    "sy.pprint(f)\n",
    "func = taylor(f,7,n)\n",
    "print(f'Poliniomio de Taylor de orden {n}')\n",
    "sy.pprint(func)\n",
    "\n",
    "plot(func,n,7,1,9)"
   ]
  },
  {
   "cell_type": "markdown",
   "metadata": {},
   "source": [
    "# 7 - En esta asignatura el tamaño sı́ importa. (30000 créditos)\n",
    "a)\n",
    "- Usando (1) el error debe ser:\n",
    "    - para f1, aproximadamente igual a h = 0.1\n",
    "    - para f2 aproximadamente igual a $3xh + h^2 = 0.3 + 0.01 = 0.31$\n",
    "- Usando (2) el error debe ser:\n",
    "    - para f1 aproximadamente igual a 0\n",
    "    - para f2 aproximadamente igual a $h^2 = 0.01$"
   ]
  },
  {
   "cell_type": "markdown",
   "metadata": {},
   "source": [
    "b)\n",
    "- Usando (1) el error es:\n",
    "    - para f1, 0.1\n",
    "    - para f2, 0.31\n",
    "- Usando (2) el error es:\n",
    "    - para f1, 0\n",
    "    - para f2, 0.01"
   ]
  },
  {
   "cell_type": "code",
   "execution_count": 88,
   "metadata": {},
   "outputs": [
    {
     "name": "stdout",
     "output_type": "stream",
     "text": [
      "Usando derivada 1\n",
      "0.10000000000000187\n",
      "0.31000000000000405\n",
      "Usando derivada 2\n",
      "4.440892098500626e-16\n",
      "0.010000000000001563\n"
     ]
    }
   ],
   "source": [
    "def deriv_1(func,x,h):\n",
    "    return (func(x+h)-func(x))/h\n",
    "\n",
    "def deriv_2(func,x,h):\n",
    "    return (func(x+h)-func(x-h))/(2*h)\n",
    "\n",
    "x2 = lambda x : x**2\n",
    "x3 = lambda x : x**3\n",
    "x2_der = lambda x : 2*x\n",
    "x3_der = lambda x : 3*x**2\n",
    "\n",
    "h = 0.1\n",
    "x = 1\n",
    "\n",
    "print('Usando derivada 1')\n",
    "print(abs(x2_der(x) - deriv_1(x2,x,h)))\n",
    "print(abs(x3_der(x) - deriv_1(x3,x,h)))\n",
    "\n",
    "\n",
    "print('Usando derivada 2')\n",
    "print(abs(x2_der(x) - deriv_2(x2,x,h)))\n",
    "print(abs(x3_der(x) - deriv_2(x3,x,h)))\n"
   ]
  },
  {
   "cell_type": "markdown",
   "metadata": {},
   "source": [
    "# 8  Lo que tus profesores de Álgebra no querı́an que supieras(30000 créditos)"
   ]
  },
  {
   "cell_type": "code",
   "execution_count": 52,
   "metadata": {},
   "outputs": [],
   "source": [
    "# a)\n",
    "def check_matrix_multiplication(m1,m2,m3):\n",
    "    if np.dot(m1,m2).shape == m3.shape:\n",
    "        return np.equal(m1@m2, m3).all()\n",
    "    return False"
   ]
  },
  {
   "cell_type": "code",
   "execution_count": 53,
   "metadata": {},
   "outputs": [
    {
     "data": {
      "text/plain": [
       "False"
      ]
     },
     "execution_count": 53,
     "metadata": {},
     "output_type": "execute_result"
    }
   ],
   "source": [
    "A = np.array([[1,2],[3,4],[5,6]])\n",
    "B = np.array([[1,2,3],[4,5,6]])\n",
    "C = np.array([[7,10,13],[15,22,29]])\n",
    "\n",
    "check_matrix_multiplication(A,B,C)"
   ]
  },
  {
   "cell_type": "code",
   "execution_count": 54,
   "metadata": {},
   "outputs": [],
   "source": [
    "# b)\n",
    "def check_solution(A,x,b):\n",
    "    return check_matrix_multiplication(A,x,b)"
   ]
  },
  {
   "cell_type": "code",
   "execution_count": 55,
   "metadata": {},
   "outputs": [
    {
     "data": {
      "text/plain": [
       "True"
      ]
     },
     "execution_count": 55,
     "metadata": {},
     "output_type": "execute_result"
    }
   ],
   "source": [
    "# A = np.array([[2,3], [3,4]])\n",
    "# x = np.array([4,-3])\n",
    "# b = np.array([-1,0])\n",
    "\n",
    "A = np.array([[3,2], [4,-3]])\n",
    "x = np.array([1,2])\n",
    "b = np.array([7,-2])\n",
    "\n",
    "check_solution(A,x,b)"
   ]
  },
  {
   "cell_type": "markdown",
   "metadata": {},
   "source": [
    "# 9 Cuando a la computadora no le gusta tu álgebra (30000 créditos)"
   ]
  },
  {
   "cell_type": "code",
   "execution_count": 56,
   "metadata": {},
   "outputs": [],
   "source": [
    "# a)\n",
    "def generate_matrix(n):\n",
    "    mat = np.zeros((n,n))\n",
    "    \n",
    "    for i in range(n):\n",
    "        for j in range(n):\n",
    "            if i == j:\n",
    "                mat[i,j] = 0.5\n",
    "            elif i+1 == j:\n",
    "                mat[i,j] = 1\n",
    "    return mat"
   ]
  },
  {
   "cell_type": "code",
   "execution_count": 57,
   "metadata": {},
   "outputs": [],
   "source": [
    "def solve(n):\n",
    "    return np.linalg.inv(generate_matrix(n))@np.ones(n)"
   ]
  },
  {
   "cell_type": "code",
   "execution_count": 58,
   "metadata": {},
   "outputs": [
    {
     "data": {
      "text/plain": [
       "True"
      ]
     },
     "execution_count": 58,
     "metadata": {},
     "output_type": "execute_result"
    }
   ],
   "source": [
    "# b)\n",
    "def check_solution_exact(n):\n",
    "    return check_solution(generate_matrix(n), solve(n), np.ones(n))\n",
    "\n",
    "check_solution_exact(25)"
   ]
  },
  {
   "cell_type": "code",
   "execution_count": 59,
   "metadata": {},
   "outputs": [
    {
     "name": "stdout",
     "output_type": "stream",
     "text": [
      "[True, True, False, False, False]\n"
     ]
    }
   ],
   "source": [
    "# c)\n",
    "values = [20,40,60,80,100]\n",
    "print([check_solution_exact(i) for i in values])"
   ]
  },
  {
   "cell_type": "markdown",
   "metadata": {},
   "source": [
    "# 10 -  No hagas caso a los rumores (a no ser que sean ciertos :-/) (45000 créditos)"
   ]
  },
  {
   "cell_type": "code",
   "execution_count": 67,
   "metadata": {},
   "outputs": [
    {
     "name": "stdout",
     "output_type": "stream",
     "text": [
      "6.0\n",
      "6.000000000000005\n"
     ]
    }
   ],
   "source": [
    "# a)\n",
    "func = lambda x: x**2\n",
    "\n",
    "h30 = deriv_2(func,3,30)\n",
    "h01 = deriv_2(func,3,0.1)\n",
    "\n",
    "print(h30)\n",
    "print(h01)"
   ]
  },
  {
   "cell_type": "code",
   "execution_count": 72,
   "metadata": {},
   "outputs": [
    {
     "name": "stdout",
     "output_type": "stream",
     "text": [
      "1.0\n",
      "0.0\n",
      "1.0\n"
     ]
    }
   ],
   "source": [
    "# b)\n",
    "def identity(x):\n",
    "    for i in range(70):\n",
    "        x = math.sqrt(x)\n",
    "    for i in range(70):\n",
    "        x = x*x\n",
    "    return x\n",
    "\n",
    "print(identity(9))\n",
    "print(identity(0.1))\n",
    "print(identity(5.3))"
   ]
  },
  {
   "cell_type": "code",
   "execution_count": 85,
   "metadata": {},
   "outputs": [
    {
     "name": "stdout",
     "output_type": "stream",
     "text": [
      "1e+100\n",
      "1.0000000000000002e+100\n"
     ]
    }
   ],
   "source": [
    "list = [1e100, 1e83, 1e83, 1e83, 1e83, 1e83, 1e83, 1e83, 1e83, 1e83, 1e83]\n",
    "print(sum(list))\n",
    "\n",
    "\n",
    "list.reverse()\n",
    "print(sum(list))"
   ]
  },
  {
   "cell_type": "markdown",
   "metadata": {},
   "source": [
    "# 11 - Cónicas (50000 créditos)\n",
    "### La función recibe una cónica tanto en su forma estndar como en su forma general escrita como una expresión válida en python, ambas "
   ]
  },
  {
   "cell_type": "code",
   "execution_count": null,
   "metadata": {},
   "outputs": [],
   "source": [
    "import matplotlib as mpl\n",
    "\n",
    "mpl.rcParams['lines.color'] = 'k'\n",
    "mpl.rcParams['axes.prop_cycle'] = mpl.cycler('color', ['b'])\n",
    "    \n",
    "x = np.linspace(-9,9,400)    \n",
    "y = np.linspace(-5,5,400)\n",
    "x,y = np.meshgrid(x,y)\n",
    "\n",
    "def axes():\n",
    "    plt.axhline(0,alpha=.1)    \n",
    "    plt.axvline(0,alpha=.1)\n",
    "\n",
    "def plot_conic(f):\n",
    "    axes()\n",
    "    plt.contour(x,y,f,[1], colors='b')\n",
    "    plt.show()"
   ]
  },
  {
   "cell_type": "code",
   "execution_count": null,
   "metadata": {},
   "outputs": [],
   "source": [
    "plot_conic(x**2/2**2+y**2/2**2)\n",
    "plot_conic(y-x**2)\n",
    "plot_conic(1*x**2+-2*x*y+y**2+2*x+2*y-10)\n",
    "plot_conic(x**2/2**2 - y**2/1**2)"
   ]
  },
  {
   "cell_type": "markdown",
   "metadata": {},
   "source": [
    "# 12 - Este ejercicio es mucho más difı́cil de lo que parece. (80000 créditos)\n",
    "Como 1e83 y 1e100 tienen una diferencia de exponentes tan grande (17), mas concretamente, un float de 64 bits de python tiene 16 digitos de precisión, por tanto, no es posible sumar los dos números sin que ocurra una cancelación catastrófica, como vemos en los ejemplos debajo, si lo sumamos de manera normal no va a afectar la suma, si sumamos los 1e83 por separado, estos se convertiran en 1e84 que al sumarlo con 1e100 da un resultado distinto de 1e100 pero que sigue siendo incorrecto "
   ]
  },
  {
   "cell_type": "code",
   "execution_count": null,
   "metadata": {},
   "outputs": [],
   "source": [
    "def weird_sum(list:list):\n",
    "    temp = {}\n",
    "    for i in list:\n",
    "        if not i in temp:\n",
    "            temp[i] = i\n",
    "        else:\n",
    "            temp[i] += i\n",
    "    res = 0\n",
    "    for i in temp:\n",
    "        res += temp[i]\n",
    "    return res\n",
    "\n",
    "list = [1e100, 1e83, 1e83, 1e83, 1e83, 1e83, 1e83, 1e83, 1e83, 1e83, 1e83]\n",
    "\n",
    "suma = 0\n",
    "\n",
    "for i in list:\n",
    "    suma += i\n",
    "\n",
    "print(suma)\n",
    "print(weird_sum(list))"
   ]
  },
  {
   "cell_type": "markdown",
   "metadata": {},
   "source": [
    "# 13 -  ¿Dinosaurios? :-/ (30000 créditos)\n",
    "El dinosaurio, de Augusto Monterroso es considerado el relato mas corto escrito en espaǹol, o por lo menos lo fue hasta principios del siglo 21, cuando son publicadas 'El emigrante', 'Luis XIV' y 'Epitafio para un microrrelatista', pero bueno, ya estos vinieron a copiar al original asi que... no es lo mismo ;-)\n",
    "\n",
    "- pregunta secreta:\n",
    "    la pregunta debe estar relacionada con que el profe dijo en la conferencia que debı́amos ignorarlo y ponernos a probar cosas en la pc, que ellos, como el dinosaurio... estarı́an ahı́... lo q no aclararon si ese ahı́ es en el curso próximo repitiendo la asigantura 🤔"
   ]
  }
 ],
 "metadata": {
  "kernelspec": {
   "display_name": "Python 3",
   "language": "python",
   "name": "python3"
  },
  "language_info": {
   "codemirror_mode": {
    "name": "ipython",
    "version": 3
   },
   "file_extension": ".py",
   "mimetype": "text/x-python",
   "name": "python",
   "nbconvert_exporter": "python",
   "pygments_lexer": "ipython3",
   "version": "3.7.4"
  }
 },
 "nbformat": 4,
 "nbformat_minor": 4
}
