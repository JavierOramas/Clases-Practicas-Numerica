{
 "cells": [
  {
   "cell_type": "markdown",
   "metadata": {},
   "source": [
    "# 1 - Notacion cientifica en la Computadora (5000 créditos)\n",
    "- a) 4500000 con 4 caracteres: 45e5\n",
    "- b) -1230000 con 6 caracteres: -123e4\n",
    "- c) 0.000000123 con 6 caracteres: 123e-9\n",
    "- d) 1 con 4 caracteres: 1e00\n",
    " "
   ]
  },
  {
   "cell_type": "markdown",
   "metadata": {},
   "source": [
    "# 2 - No confies en los calculos de las computadoras (10000 créditos)\n",
    "* a)\n",
    "    - a) 0.4 * 6 > 0.24           True\n",
    "    - b) 0.8 * 3 == 0.3 * 8       False\n",
    "    - c) 0.3 * 3 == 0.9           False\n",
    "    - d) 3.1 * 2 < 6.2            False\n",
    "    - e) 1e100 + 1e50 == 1e100    True\n",
    "\n",
    "* b)\n",
    "    1e100 + 10**n > 1e100 para N = 84        "
   ]
  },
  {
   "cell_type": "code",
   "execution_count": 1,
   "metadata": {},
   "outputs": [
    {
     "name": "stdout",
     "output_type": "stream",
     "text": [
      "84\n"
     ]
    }
   ],
   "source": [
    "i = 1\n",
    "while not (1e100+10**i > 1e100):\n",
    "    i+=1\n",
    "print(i)\n"
   ]
  },
  {
   "cell_type": "code",
   "execution_count": 2,
   "metadata": {},
   "outputs": [
    {
     "name": "stdout",
     "output_type": "stream",
     "text": [
      "83.98736884138171\n"
     ]
    }
   ],
   "source": [
    "# c)\n",
    "\n",
    "# tomando 0.0000001 como incremento...\n",
    "\n",
    "i = 83.0\n",
    "\n",
    "while not (1e100+10**i > 1e100):\n",
    "    i+=0.0000001\n",
    "print(i)\n"
   ]
  },
  {
   "cell_type": "markdown",
   "metadata": {},
   "source": [
    "# 3 - Python! (10000 créditos)"
   ]
  },
  {
   "cell_type": "code",
   "execution_count": 3,
   "metadata": {},
   "outputs": [
    {
     "name": "stdout",
     "output_type": "stream",
     "text": [
      "720\n",
      "720\n",
      "720\n"
     ]
    }
   ],
   "source": [
    "from scipy.special import gamma\n",
    "\n",
    "# a)\n",
    "def factorial_recursivo(num:int):\n",
    "    if num == 1:\n",
    "        return num\n",
    "    else:\n",
    "        return num * factorial_iterativo(num-1)\n",
    "\n",
    "# b)\n",
    "def factorial_iterativo(num:int):\n",
    "    sol = 1\n",
    "    while num > 1:\n",
    "        sol *= num\n",
    "        num -= 1\n",
    "    return sol\n",
    "\n",
    "# c)\n",
    "def factorial_gamma(num:int):\n",
    "    return int(gamma(num+1))\n",
    "\n",
    "print(factorial_iterativo(6))\n",
    "print(factorial_recursivo(6))\n",
    "print(factorial_gamma(6))"
   ]
  },
  {
   "cell_type": "markdown",
   "metadata": {},
   "source": [
    "# 4 - Análisis Matemático en Python (20000 créditos)"
   ]
  },
  {
   "cell_type": "code",
   "execution_count": 4,
   "metadata": {},
   "outputs": [
    {
     "name": "stdout",
     "output_type": "stream",
     "text": [
      "2.0100000000000007\n",
      "2.000099999999172\n",
      "2.0000009999243673\n",
      "2.000000165480742\n",
      "2.000177801164682\n"
     ]
    }
   ],
   "source": [
    "# a)\n",
    "def aprox_derivada(f, x:float, h:float):\n",
    "    return (f(x+h)-f(x))/h\n",
    "\n",
    "# b)\n",
    "f = lambda x : x**2\n",
    "\n",
    "print(aprox_derivada(f, 1, 0.01))\n",
    "print(aprox_derivada(f, 1, 0.0001))\n",
    "print(aprox_derivada(f, 1, 0.000001))\n",
    "print(aprox_derivada(f, 1, 0.000000001))\n",
    "print(aprox_derivada(f, 1, 0.000000000001))\n"
   ]
  },
  {
   "cell_type": "markdown",
   "metadata": {},
   "source": [
    "- c)\n",
    "    * pregunta secreta: (sabemos q la derivada de f(1) es 2) tomando el valor de h que haga que abs(aprox_derivada(f,1,h) - 2) sea minimo"
   ]
  },
  {
   "cell_type": "code",
   "execution_count": 5,
   "metadata": {},
   "outputs": [
    {
     "name": "stdout",
     "output_type": "stream",
     "text": [
      "9.999815438175232e-08\n"
     ]
    }
   ],
   "source": [
    "h = 0.1\n",
    "last = abs(aprox_derivada(f,1,h)-2)\n",
    "\n",
    "# tomando 0.0000001 como minimo incremento...\n",
    "\n",
    "while True:\n",
    "    h -= 0.0000001\n",
    "    current = abs(aprox_derivada(f,1,h)-2)\n",
    "    if current > last:\n",
    "        h += 0.0000001\n",
    "        break\n",
    "    last = current\n",
    "print(h)\n"
   ]
  },
  {
   "cell_type": "markdown",
   "metadata": {},
   "source": [
    "# 5 - Primera introducción a la Serie da Taylor (20000 créditos)\n",
    "\n",
    "- a) Aproximacion por Serie de Taylor\n",
    "- b) $ \\sum_{n=0}^{\\infty}\\frac{f^{n}(a)}{n!}(x-a)^{n} $\n",
    "- c) Calcule el desarrollo en serie de (Taylor) de las siguientes Funciones:\n",
    "    - $ f(x) = e^{x} $\n",
    "       $$ f(x) = e^{(x-a)} + \\frac{\\frac{d(e^{x})}{dx}(x-a)}{1!} + \\frac{\\frac{d^{2}(e^{x})}{d^{2}x}(x-a)^{2}}{2!} + \\frac{\\frac{d^{3}(e^{x})}{d^{3}x}(x-a)^3}{3!} + ... $$\n",
    "       $$ f(x) = e^{(x-a)} + e^{(x-a)} + \\frac{e^{(x-a)^{2}}}{2} + \\frac{e^{(x-a)^{3}}}{6} + ...$$\n",
    "    \n",
    "    - $ f(x) = \\sin(x) $\n",
    "        $$ f(x) = \\sin{(x-a)} + \\frac{\\frac{d\\sin{x}}{dx}(x-a)}{1!} + \\frac{\\frac{d^{2}\\sin{x}}{d^{2}x}(x-a)^{2}}{2!} + \\frac{\\frac{d^{3}\\sin{x}}{d^{3}x}(x-a)^{3}}{3!} + ... $$\n",
    "        $$ f(x) = \\sin{(x-a)} + \\cos{(x-a)} + \\frac{-\\sin{(x-a)^{2}}}{2} + \\frac{-\\cos{(x-a)^{3}}}{6} + ... $$\n",
    "    \n",
    "    - $ f(x) = x^{5}+6x^{3}-4x^{2}+5 $\n",
    "        $$ f(x) =  5(x-a)^{5} + 6(x-a)^{3} + 4(x-a)^{2}+ 5 + \\frac{5(x-a)^{4}+18(x-a)^{2}+x(x-a)}{1} + \\frac{20(x-a)^{6}+36(x-a)^{2}+8}{2} + \\frac{60(x-a)^{6}+36}{6} + ... $$"
   ]
  },
  {
   "cell_type": "markdown",
   "metadata": {},
   "source": [
    "# 6 - ¿Has visto las series de Taylor? (20000 créditos)"
   ]
  },
  {
   "cell_type": "code",
   "execution_count": 6,
   "metadata": {},
   "outputs": [],
   "source": [
    "import sympy as sy\n",
    "import numpy as np\n",
    "from sympy.functions import sin,cos\n",
    "import matplotlib.pyplot as plt\n",
    "import math\n",
    "\n",
    "plt.style.use('ggplot')\n",
    "sy.init_printing()"
   ]
  },
  {
   "cell_type": "code",
   "execution_count": 7,
   "metadata": {},
   "outputs": [],
   "source": [
    "def taylor(function,  x_0, n):\n",
    "    i = 0\n",
    "    p = 0\n",
    "    \n",
    "    while i <= n:\n",
    "        p = p + (function.diff(x,i).subs(x,x_0)/factorial_iterativo(i))*(x-x_0)**i\n",
    "        i += 1\n",
    "    return p"
   ]
  },
  {
   "cell_type": "code",
   "execution_count": 8,
   "metadata": {},
   "outputs": [],
   "source": [
    "def plot(n:int):\n",
    "    x_lims = [-10,10]\n",
    "    x1 = np.linspace(x_lims[0], x_lims[1], 800)\n",
    "    y1 = []\n",
    "    y2 = []\n",
    "    \n",
    "    for j in range(1,n+1):\n",
    "        if j == n or j % 2 == 0: \n",
    "            func = taylor(f,0,j)\n",
    "            for k in x1:\n",
    "                y1.append(func.subs(x,k))\n",
    "            plt.plot(x1,y1,label=(f'Orden {str(j)}:'))\n",
    "            y1 = []\n",
    "    for k in x1:\n",
    "        y2.append(f.subs(x,k))\n",
    "        \n",
    "    plt.plot(x1,y2,label='Funcion Original')\n",
    "    plt.xlim(x_lims)\n",
    "    plt.ylim([-5,5])\n",
    "    plt.xlabel('x')\n",
    "    plt.ylabel('y')\n",
    "    plt.legend()\n",
    "    plt.grid(True)\n",
    "    plt.title('Aproximación por serie de Taylor')\n",
    "    plt.show()"
   ]
  },
  {
   "cell_type": "code",
   "execution_count": 9,
   "metadata": {},
   "outputs": [
    {
     "name": "stdout",
     "output_type": "stream",
     "text": [
      " x\n",
      "e \n",
      "Poliniomio de Taylor de orden 10\n",
      " 10    10       9    9       8    8       7    7       6    6       5    5    \n",
      "x  ⋅log  (e)   x ⋅log (e)   x ⋅log (e)   x ⋅log (e)   x ⋅log (e)   x ⋅log (e) \n",
      "──────────── + ────────── + ────────── + ────────── + ────────── + ────────── \n",
      "  3628800        362880       40320         5040         720          120     \n",
      "\n",
      "   4    4       3    3       2    2                  \n",
      "  x ⋅log (e)   x ⋅log (e)   x ⋅log (e)               \n",
      "+ ────────── + ────────── + ────────── + x⋅log(e) + 1\n",
      "      24           6            2                    \n"
     ]
    },
    {
     "data": {
      "image/png": "[encoded data removed]",
      "text/plain": [
       "<Figure size 432x288 with 1 Axes>"
      ]
     },
     "metadata": {
      "needs_background": "light"
     },
     "output_type": "display_data"
    }
   ],
   "source": [
    "e = sy.Symbol('e')\n",
    "x = sy.Symbol('x')\n",
    "f = e**x\n",
    "n = 10\n",
    "\n",
    "sy.pprint(f)\n",
    "func = taylor(f,0,n)\n",
    "print(f'Poliniomio de Taylor de orden {n}')\n",
    "sy.pprint(func)\n",
    "\n",
    "f = f.subs(e, math.e)\n",
    "\n",
    "plot(n)"
   ]
  },
  {
   "cell_type": "code",
   "execution_count": 10,
   "metadata": {},
   "outputs": [
    {
     "name": "stdout",
     "output_type": "stream",
     "text": [
      "sin(x)\n",
      "Poliniomio de Taylor de orden 10\n",
      "   9       7      5    3    \n",
      "  x       x      x    x     \n",
      "────── - ──── + ─── - ── + x\n",
      "362880   5040   120   6     \n"
     ]
    },
    {
     "data": {
      "image/png": "[encoded data removed]",
      "text/plain": [
       "<Figure size 432x288 with 1 Axes>"
      ]
     },
     "metadata": {
      "needs_background": "light"
     },
     "output_type": "display_data"
    }
   ],
   "source": [
    "x = sy.Symbol('x')\n",
    "f = sin(x)\n",
    "n = 10\n",
    "\n",
    "sy.pprint(f)\n",
    "func = taylor(f,0,n)\n",
    "print(f'Poliniomio de Taylor de orden {n}')\n",
    "sy.pprint(func)\n",
    "\n",
    "plot(n)"
   ]
  },
  {
   "cell_type": "code",
   "execution_count": 11,
   "metadata": {},
   "outputs": [
    {
     "name": "stdout",
     "output_type": "stream",
     "text": [
      " 5      3      2    \n",
      "x  + 6⋅x  + 4⋅x  + 5\n",
      "Poliniomio de Taylor de orden 10\n",
      " 5      3      2    \n",
      "x  + 6⋅x  + 4⋅x  + 5\n"
     ]
    },
    {
     "data": {
      "image/png": "[encoded data removed]",
      "text/plain": [
       "<Figure size 432x288 with 1 Axes>"
      ]
     },
     "metadata": {
      "needs_background": "light"
     },
     "output_type": "display_data"
    }
   ],
   "source": [
    "x = sy.Symbol('x')\n",
    "f = x**5+6*x**3+4*x**2+5\n",
    "n = 10\n",
    "\n",
    "sy.pprint(f)\n",
    "func = taylor(f,0,n)\n",
    "print(f'Poliniomio de Taylor de orden {n}')\n",
    "sy.pprint(func)\n",
    "\n",
    "plot(n)"
   ]
  },
  {
   "cell_type": "markdown",
   "metadata": {},
   "source": [
    "# 7 - En esta asignatura el tamaño sı́ importa. (30000 créditos)\n",
    "- Pregunta Secreta:\n",
    "    $ O(h) $ y $ O(h^{2}) $ son los errores de resto o truncacion de cada una de las aproximaciones y su expresion exacta es:\n",
    "    $$ $$\n",
    "    "
   ]
  },
  {
   "cell_type": "markdown",
   "metadata": {},
   "source": [
    "# 8  Lo que tus profesores de Álgebra no querı́an que supieras(30000 créditos)"
   ]
  },
  {
   "cell_type": "code",
   "execution_count": 12,
   "metadata": {},
   "outputs": [],
   "source": [
    "# a)\n",
    "def check_matrix_multiplication(m1,m2,m3):\n",
    "    return np.equal(m1@m2, m3).all()\n",
    "     "
   ]
  },
  {
   "cell_type": "code",
   "execution_count": 13,
   "metadata": {},
   "outputs": [
    {
     "data": {
      "text/plain": [
       "True"
      ]
     },
     "execution_count": 13,
     "metadata": {},
     "output_type": "execute_result"
    }
   ],
   "source": [
    "m1 = np.array([[1,0,0], [0,1,0], [0,0,1]])\n",
    "m2 = np.array([[2,3,4], [1,2,3], [4,5,6]])\n",
    "m3 = np.array([[2,3,4], [1,2,3], [4,5,6]])\n",
    "\n",
    "check_matrix_multiplication(m1,m2,m3)"
   ]
  },
  {
   "cell_type": "code",
   "execution_count": 14,
   "metadata": {},
   "outputs": [],
   "source": [
    "# b)\n",
    "def check_solution(A,x,b):\n",
    "    return check_matrix_multiplication(A,x,b)"
   ]
  },
  {
   "cell_type": "code",
   "execution_count": 15,
   "metadata": {},
   "outputs": [
    {
     "data": {
      "text/plain": [
       "True"
      ]
     },
     "execution_count": 15,
     "metadata": {},
     "output_type": "execute_result"
    }
   ],
   "source": [
    "# A = np.array([[2,3], [3,4]])\n",
    "# x = np.array([4,-3])\n",
    "# b = np.array([-1,0])\n",
    "\n",
    "A = np.array([[3,2], [4,-3]])\n",
    "x = np.array([1,2])\n",
    "b = np.array([7,-2])\n",
    "\n",
    "check_solution(A,x,b)"
   ]
  },
  {
   "cell_type": "markdown",
   "metadata": {},
   "source": [
    "# 9 Cuando a la computadora no le gusta tu álgebra (30000 créditos)"
   ]
  },
  {
   "cell_type": "markdown",
   "metadata": {},
   "source": [
    "# 10 -  No hagas caso a los rumores (a no ser que sean ciertos :-/) (45000 créditos)\n",
    "<b>a)</b>"
   ]
  },
  {
   "cell_type": "markdown",
   "metadata": {},
   "source": [
    "<b>b)</b>"
   ]
  },
  {
   "cell_type": "markdown",
   "metadata": {},
   "source": [
    "<b>c)</b>"
   ]
  },
  {
   "cell_type": "markdown",
   "metadata": {},
   "source": [
    "# 11 - Cónicas (50000 créditos)\n",
    "### La función recibe una cónica tanto en su forma estndar como en su forma general escrita como una expresión válida en python, ambas "
   ]
  },
  {
   "cell_type": "code",
   "execution_count": 32,
   "metadata": {},
   "outputs": [],
   "source": [
    "import matplotlib as mpl\n",
    "\n",
    "mpl.rcParams['lines.color'] = 'k'\n",
    "mpl.rcParams['axes.prop_cycle'] = mpl.cycler('color', ['b'])\n",
    "    \n",
    "x = np.linspace(-9,9,400)    \n",
    "y = np.linspace(-5,5,400)\n",
    "x,y = np.meshgrid(x,y)\n",
    "\n",
    "def axes():\n",
    "    plt.axhline(0,alpha=.1)    \n",
    "    plt.axvline(0,alpha=.1)\n",
    "\n",
    "def plot_conic(f):\n",
    "    axes()\n",
    "    plt.contour(x,y,f,[1], colors='b')\n",
    "    plt.show()"
   ]
  },
  {
   "cell_type": "code",
   "execution_count": 33,
   "metadata": {},
   "outputs": [
    {
     "data": {
      "image/png": "[encoded data removed]",
      "text/plain": [
       "<Figure size 432x288 with 1 Axes>"
      ]
     },
     "metadata": {
      "needs_background": "light"
     },
     "output_type": "display_data"
    },
    {
     "data": {
      "image/png": "[encoded data removed]",
      "text/plain": [
       "<Figure size 432x288 with 1 Axes>"
      ]
     },
     "metadata": {
      "needs_background": "light"
     },
     "output_type": "display_data"
    },
    {
     "data": {
      "image/png": "[encoded data removed]",
      "text/plain": [
       "<Figure size 432x288 with 1 Axes>"
      ]
     },
     "metadata": {
      "needs_background": "light"
     },
     "output_type": "display_data"
    },
    {
     "data": {
      "image/png": "[encoded data removed]",
      "text/plain": [
       "<Figure size 432x288 with 1 Axes>"
      ]
     },
     "metadata": {
      "needs_background": "light"
     },
     "output_type": "display_data"
    }
   ],
   "source": [
    "plot_conic(x**2/2**2+y**2/2**2)\n",
    "plot_conic(y-x**2)\n",
    "plot_conic(1*x**2+-2*x*y+y**2+2*x+2*y-10)\n",
    "plot_conic(x**2/2**2 - y**2/1**2)"
   ]
  },
  {
   "cell_type": "markdown",
   "metadata": {},
   "source": [
    "# 12 - Este ejercicio es mucho más difı́cil de lo que parece. (80000 créditos)\n",
    "Como 1e83 y 1e100 tienen una diferencia de exponentes tan grande (17), mas concretamente, un float de 64 bits de python tiene 16 digitos de precisión, por tanto, no es posible sumer los dos numeros sin que ocurran una cancelacion catastrófica, como vemos en los ejemplos debajo, si lo sumamos de manera normal no va a afectar la suma, si sumamos los 1e83 por separado, estos se convertiran en 1e84 que al sumarlo con 1e100 da un resultado distinto de 1e100 pero que sigue siendo incorrecto "
   ]
  },
  {
   "cell_type": "code",
   "execution_count": 18,
   "metadata": {},
   "outputs": [
    {
     "name": "stdout",
     "output_type": "stream",
     "text": [
      "1e+100\n",
      "1.0000000000000002e+100\n"
     ]
    }
   ],
   "source": [
    "def weird_sum(list:list):\n",
    "    temp = {}\n",
    "    for i in list:\n",
    "        if not i in temp:\n",
    "            temp[i] = i\n",
    "        else:\n",
    "            temp[i] += i\n",
    "    res = 0\n",
    "    for i in temp:\n",
    "        res += temp[i]\n",
    "    return res\n",
    "\n",
    "list = [1e100, 1e83, 1e83, 1e83, 1e83, 1e83, 1e83, 1e83, 1e83, 1e83, 1e83]\n",
    "\n",
    "suma = 0\n",
    "\n",
    "for i in list:\n",
    "    suma += i\n",
    "\n",
    "print(suma)\n",
    "print(weird_sum(list))"
   ]
  },
  {
   "cell_type": "markdown",
   "metadata": {},
   "source": [
    "# 13 -  ¿Dinosaurios? :-/ (30000 créditos)\n",
    "El dinosaurio, de Augusto Monterroso es considerado el relato mas corto escrito en espaǹol, o por lo menos lo fue hasta principios del siglo 21, cuando son publicadas 'El emigrante', 'Luis XIV' y 'Epitafio para un microrrelatista', pero bueno, ya estos vinieron a copiar al original asi que... no son tan relevantes ;-)\n",
    "\n",
    "- pregunta secreta:\n",
    "    la pregunta debe estar relacionada con que el profe dijo en la conferencia que debı́amos ignorarlo y ponernos a probar cosas en la pc, que ellos, como el dinosaurio... estarı́an ahı́... lo q no aclararon si ese ahı́ es en el curso próximo repitiendo la asigantura \n"
   ]
  }
 ],
 "metadata": {
  "kernelspec": {
   "display_name": "Python 3",
   "language": "python",
   "name": "python3"
  },
  "language_info": {
   "codemirror_mode": {
    "name": "ipython",
    "version": 3
   },
   "file_extension": ".py",
   "mimetype": "text/x-python",
   "name": "python",
   "nbconvert_exporter": "python",
   "pygments_lexer": "ipython3",
   "version": "3.7.4"
  }
 },
 "nbformat": 4,
 "nbformat_minor": 4
}
